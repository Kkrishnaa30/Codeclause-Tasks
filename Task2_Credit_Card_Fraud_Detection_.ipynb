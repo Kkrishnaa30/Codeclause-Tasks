{
  "cells": [
    {
      "cell_type": "markdown",
      "metadata": {
        "id": "view-in-github",
        "colab_type": "text"
      },
      "source": [
        "<a href=\"https://colab.research.google.com/github/Kkrishnaa30/Codeclause-Tasks/blob/main/Task2_Credit_Card_Fraud_Detection_.ipynb\" target=\"_parent\"><img src=\"https://colab.research.google.com/assets/colab-badge.svg\" alt=\"Open In Colab\"/></a>"
      ]
    },
    {
      "cell_type": "markdown",
      "source": [
        "Krishna Khandelwal                                                     \n",
        "\n",
        "**Task 2**"
      ],
      "metadata": {
        "id": "JsMPsF1-8XRp"
      },
      "id": "JsMPsF1-8XRp"
    },
    {
      "cell_type": "markdown",
      "id": "4b7744d8",
      "metadata": {
        "id": "4b7744d8"
      },
      "source": [
        "# Fraud Detection - Credit Card\n",
        "\n",
        "### About Dataset\n",
        "The dataset has a time column which shows the transaction in seconds. The dataset have more columns from V1 to V28 which represents some feature about the transaction but as the transactions of credit cards are sensitive, the columns are presented by numbers. Moreover the data has 'Amount' column which is shows the transaction amount in dollars and 'Class' column shows whether the transaction is fraud or not.\n",
        "\n",
        "Kaggle link for the Dataset - https://www.kaggle.com/datasets/mlg-ulb/creditcardfraud"
      ]
    },
    {
      "cell_type": "code",
      "execution_count": 3,
      "id": "c4720300",
      "metadata": {
        "id": "c4720300"
      },
      "outputs": [],
      "source": [
        "import numpy as np\n",
        "import pandas as pd\n",
        "import matplotlib.pyplot as plt\n",
        "import seaborn as sns\n",
        "\n",
        "import warnings\n",
        "warnings.filterwarnings('ignore')"
      ]
    },
    {
      "cell_type": "code",
      "execution_count": 4,
      "id": "f055cb0b",
      "metadata": {
        "id": "f055cb0b"
      },
      "outputs": [],
      "source": [
        "credit_card = pd.read_csv('creditcard.csv')"
      ]
    },
    {
      "cell_type": "code",
      "execution_count": 5,
      "id": "91b71436",
      "metadata": {
        "colab": {
          "base_uri": "https://localhost:8080/",
          "height": 299
        },
        "id": "91b71436",
        "outputId": "02e88778-a090-4476-bfbf-3356d7429745"
      },
      "outputs": [
        {
          "output_type": "execute_result",
          "data": {
            "text/plain": [
              "   Time        V1        V2        V3        V4        V5        V6        V7  \\\n",
              "0     0 -1.359807 -0.072781  2.536347  1.378155 -0.338321  0.462388  0.239599   \n",
              "1     0  1.191857  0.266151  0.166480  0.448154  0.060018 -0.082361 -0.078803   \n",
              "2     1 -1.358354 -1.340163  1.773209  0.379780 -0.503198  1.800499  0.791461   \n",
              "3     1 -0.966272 -0.185226  1.792993 -0.863291 -0.010309  1.247203  0.237609   \n",
              "4     2 -1.158233  0.877737  1.548718  0.403034 -0.407193  0.095921  0.592941   \n",
              "\n",
              "         V8        V9  ...       V21       V22       V23       V24       V25  \\\n",
              "0  0.098698  0.363787  ... -0.018307  0.277838 -0.110474  0.066928  0.128539   \n",
              "1  0.085102 -0.255425  ... -0.225775 -0.638672  0.101288 -0.339846  0.167170   \n",
              "2  0.247676 -1.514654  ...  0.247998  0.771679  0.909412 -0.689281 -0.327642   \n",
              "3  0.377436 -1.387024  ... -0.108300  0.005274 -0.190321 -1.175575  0.647376   \n",
              "4 -0.270533  0.817739  ... -0.009431  0.798278 -0.137458  0.141267 -0.206010   \n",
              "\n",
              "        V26       V27       V28  Amount  Class  \n",
              "0 -0.189115  0.133558 -0.021053  149.62    0.0  \n",
              "1  0.125895 -0.008983  0.014724    2.69    0.0  \n",
              "2 -0.139097 -0.055353 -0.059752  378.66    0.0  \n",
              "3 -0.221929  0.062723  0.061458  123.50    0.0  \n",
              "4  0.502292  0.219422  0.215153   69.99    0.0  \n",
              "\n",
              "[5 rows x 31 columns]"
            ],
            "text/html": [
              "\n",
              "  <div id=\"df-abb4d074-2f49-4f1d-af71-51aeb1046b26\">\n",
              "    <div class=\"colab-df-container\">\n",
              "      <div>\n",
              "<style scoped>\n",
              "    .dataframe tbody tr th:only-of-type {\n",
              "        vertical-align: middle;\n",
              "    }\n",
              "\n",
              "    .dataframe tbody tr th {\n",
              "        vertical-align: top;\n",
              "    }\n",
              "\n",
              "    .dataframe thead th {\n",
              "        text-align: right;\n",
              "    }\n",
              "</style>\n",
              "<table border=\"1\" class=\"dataframe\">\n",
              "  <thead>\n",
              "    <tr style=\"text-align: right;\">\n",
              "      <th></th>\n",
              "      <th>Time</th>\n",
              "      <th>V1</th>\n",
              "      <th>V2</th>\n",
              "      <th>V3</th>\n",
              "      <th>V4</th>\n",
              "      <th>V5</th>\n",
              "      <th>V6</th>\n",
              "      <th>V7</th>\n",
              "      <th>V8</th>\n",
              "      <th>V9</th>\n",
              "      <th>...</th>\n",
              "      <th>V21</th>\n",
              "      <th>V22</th>\n",
              "      <th>V23</th>\n",
              "      <th>V24</th>\n",
              "      <th>V25</th>\n",
              "      <th>V26</th>\n",
              "      <th>V27</th>\n",
              "      <th>V28</th>\n",
              "      <th>Amount</th>\n",
              "      <th>Class</th>\n",
              "    </tr>\n",
              "  </thead>\n",
              "  <tbody>\n",
              "    <tr>\n",
              "      <th>0</th>\n",
              "      <td>0</td>\n",
              "      <td>-1.359807</td>\n",
              "      <td>-0.072781</td>\n",
              "      <td>2.536347</td>\n",
              "      <td>1.378155</td>\n",
              "      <td>-0.338321</td>\n",
              "      <td>0.462388</td>\n",
              "      <td>0.239599</td>\n",
              "      <td>0.098698</td>\n",
              "      <td>0.363787</td>\n",
              "      <td>...</td>\n",
              "      <td>-0.018307</td>\n",
              "      <td>0.277838</td>\n",
              "      <td>-0.110474</td>\n",
              "      <td>0.066928</td>\n",
              "      <td>0.128539</td>\n",
              "      <td>-0.189115</td>\n",
              "      <td>0.133558</td>\n",
              "      <td>-0.021053</td>\n",
              "      <td>149.62</td>\n",
              "      <td>0.0</td>\n",
              "    </tr>\n",
              "    <tr>\n",
              "      <th>1</th>\n",
              "      <td>0</td>\n",
              "      <td>1.191857</td>\n",
              "      <td>0.266151</td>\n",
              "      <td>0.166480</td>\n",
              "      <td>0.448154</td>\n",
              "      <td>0.060018</td>\n",
              "      <td>-0.082361</td>\n",
              "      <td>-0.078803</td>\n",
              "      <td>0.085102</td>\n",
              "      <td>-0.255425</td>\n",
              "      <td>...</td>\n",
              "      <td>-0.225775</td>\n",
              "      <td>-0.638672</td>\n",
              "      <td>0.101288</td>\n",
              "      <td>-0.339846</td>\n",
              "      <td>0.167170</td>\n",
              "      <td>0.125895</td>\n",
              "      <td>-0.008983</td>\n",
              "      <td>0.014724</td>\n",
              "      <td>2.69</td>\n",
              "      <td>0.0</td>\n",
              "    </tr>\n",
              "    <tr>\n",
              "      <th>2</th>\n",
              "      <td>1</td>\n",
              "      <td>-1.358354</td>\n",
              "      <td>-1.340163</td>\n",
              "      <td>1.773209</td>\n",
              "      <td>0.379780</td>\n",
              "      <td>-0.503198</td>\n",
              "      <td>1.800499</td>\n",
              "      <td>0.791461</td>\n",
              "      <td>0.247676</td>\n",
              "      <td>-1.514654</td>\n",
              "      <td>...</td>\n",
              "      <td>0.247998</td>\n",
              "      <td>0.771679</td>\n",
              "      <td>0.909412</td>\n",
              "      <td>-0.689281</td>\n",
              "      <td>-0.327642</td>\n",
              "      <td>-0.139097</td>\n",
              "      <td>-0.055353</td>\n",
              "      <td>-0.059752</td>\n",
              "      <td>378.66</td>\n",
              "      <td>0.0</td>\n",
              "    </tr>\n",
              "    <tr>\n",
              "      <th>3</th>\n",
              "      <td>1</td>\n",
              "      <td>-0.966272</td>\n",
              "      <td>-0.185226</td>\n",
              "      <td>1.792993</td>\n",
              "      <td>-0.863291</td>\n",
              "      <td>-0.010309</td>\n",
              "      <td>1.247203</td>\n",
              "      <td>0.237609</td>\n",
              "      <td>0.377436</td>\n",
              "      <td>-1.387024</td>\n",
              "      <td>...</td>\n",
              "      <td>-0.108300</td>\n",
              "      <td>0.005274</td>\n",
              "      <td>-0.190321</td>\n",
              "      <td>-1.175575</td>\n",
              "      <td>0.647376</td>\n",
              "      <td>-0.221929</td>\n",
              "      <td>0.062723</td>\n",
              "      <td>0.061458</td>\n",
              "      <td>123.50</td>\n",
              "      <td>0.0</td>\n",
              "    </tr>\n",
              "    <tr>\n",
              "      <th>4</th>\n",
              "      <td>2</td>\n",
              "      <td>-1.158233</td>\n",
              "      <td>0.877737</td>\n",
              "      <td>1.548718</td>\n",
              "      <td>0.403034</td>\n",
              "      <td>-0.407193</td>\n",
              "      <td>0.095921</td>\n",
              "      <td>0.592941</td>\n",
              "      <td>-0.270533</td>\n",
              "      <td>0.817739</td>\n",
              "      <td>...</td>\n",
              "      <td>-0.009431</td>\n",
              "      <td>0.798278</td>\n",
              "      <td>-0.137458</td>\n",
              "      <td>0.141267</td>\n",
              "      <td>-0.206010</td>\n",
              "      <td>0.502292</td>\n",
              "      <td>0.219422</td>\n",
              "      <td>0.215153</td>\n",
              "      <td>69.99</td>\n",
              "      <td>0.0</td>\n",
              "    </tr>\n",
              "  </tbody>\n",
              "</table>\n",
              "<p>5 rows × 31 columns</p>\n",
              "</div>\n",
              "      <button class=\"colab-df-convert\" onclick=\"convertToInteractive('df-abb4d074-2f49-4f1d-af71-51aeb1046b26')\"\n",
              "              title=\"Convert this dataframe to an interactive table.\"\n",
              "              style=\"display:none;\">\n",
              "        \n",
              "  <svg xmlns=\"http://www.w3.org/2000/svg\" height=\"24px\"viewBox=\"0 0 24 24\"\n",
              "       width=\"24px\">\n",
              "    <path d=\"M0 0h24v24H0V0z\" fill=\"none\"/>\n",
              "    <path d=\"M18.56 5.44l.94 2.06.94-2.06 2.06-.94-2.06-.94-.94-2.06-.94 2.06-2.06.94zm-11 1L8.5 8.5l.94-2.06 2.06-.94-2.06-.94L8.5 2.5l-.94 2.06-2.06.94zm10 10l.94 2.06.94-2.06 2.06-.94-2.06-.94-.94-2.06-.94 2.06-2.06.94z\"/><path d=\"M17.41 7.96l-1.37-1.37c-.4-.4-.92-.59-1.43-.59-.52 0-1.04.2-1.43.59L10.3 9.45l-7.72 7.72c-.78.78-.78 2.05 0 2.83L4 21.41c.39.39.9.59 1.41.59.51 0 1.02-.2 1.41-.59l7.78-7.78 2.81-2.81c.8-.78.8-2.07 0-2.86zM5.41 20L4 18.59l7.72-7.72 1.47 1.35L5.41 20z\"/>\n",
              "  </svg>\n",
              "      </button>\n",
              "      \n",
              "  <style>\n",
              "    .colab-df-container {\n",
              "      display:flex;\n",
              "      flex-wrap:wrap;\n",
              "      gap: 12px;\n",
              "    }\n",
              "\n",
              "    .colab-df-convert {\n",
              "      background-color: #E8F0FE;\n",
              "      border: none;\n",
              "      border-radius: 50%;\n",
              "      cursor: pointer;\n",
              "      display: none;\n",
              "      fill: #1967D2;\n",
              "      height: 32px;\n",
              "      padding: 0 0 0 0;\n",
              "      width: 32px;\n",
              "    }\n",
              "\n",
              "    .colab-df-convert:hover {\n",
              "      background-color: #E2EBFA;\n",
              "      box-shadow: 0px 1px 2px rgba(60, 64, 67, 0.3), 0px 1px 3px 1px rgba(60, 64, 67, 0.15);\n",
              "      fill: #174EA6;\n",
              "    }\n",
              "\n",
              "    [theme=dark] .colab-df-convert {\n",
              "      background-color: #3B4455;\n",
              "      fill: #D2E3FC;\n",
              "    }\n",
              "\n",
              "    [theme=dark] .colab-df-convert:hover {\n",
              "      background-color: #434B5C;\n",
              "      box-shadow: 0px 1px 3px 1px rgba(0, 0, 0, 0.15);\n",
              "      filter: drop-shadow(0px 1px 2px rgba(0, 0, 0, 0.3));\n",
              "      fill: #FFFFFF;\n",
              "    }\n",
              "  </style>\n",
              "\n",
              "      <script>\n",
              "        const buttonEl =\n",
              "          document.querySelector('#df-abb4d074-2f49-4f1d-af71-51aeb1046b26 button.colab-df-convert');\n",
              "        buttonEl.style.display =\n",
              "          google.colab.kernel.accessAllowed ? 'block' : 'none';\n",
              "\n",
              "        async function convertToInteractive(key) {\n",
              "          const element = document.querySelector('#df-abb4d074-2f49-4f1d-af71-51aeb1046b26');\n",
              "          const dataTable =\n",
              "            await google.colab.kernel.invokeFunction('convertToInteractive',\n",
              "                                                     [key], {});\n",
              "          if (!dataTable) return;\n",
              "\n",
              "          const docLinkHtml = 'Like what you see? Visit the ' +\n",
              "            '<a target=\"_blank\" href=https://colab.research.google.com/notebooks/data_table.ipynb>data table notebook</a>'\n",
              "            + ' to learn more about interactive tables.';\n",
              "          element.innerHTML = '';\n",
              "          dataTable['output_type'] = 'display_data';\n",
              "          await google.colab.output.renderOutput(dataTable, element);\n",
              "          const docLink = document.createElement('div');\n",
              "          docLink.innerHTML = docLinkHtml;\n",
              "          element.appendChild(docLink);\n",
              "        }\n",
              "      </script>\n",
              "    </div>\n",
              "  </div>\n",
              "  "
            ]
          },
          "metadata": {},
          "execution_count": 5
        }
      ],
      "source": [
        "credit_card.head()"
      ]
    },
    {
      "cell_type": "code",
      "execution_count": 6,
      "id": "0b02a295",
      "metadata": {
        "colab": {
          "base_uri": "https://localhost:8080/"
        },
        "id": "0b02a295",
        "outputId": "3e4b2df5-ce36-475c-b8b1-5dbf2c0e5dcd"
      },
      "outputs": [
        {
          "output_type": "stream",
          "name": "stdout",
          "text": [
            "<class 'pandas.core.frame.DataFrame'>\n",
            "RangeIndex: 95162 entries, 0 to 95161\n",
            "Data columns (total 31 columns):\n",
            " #   Column  Non-Null Count  Dtype  \n",
            "---  ------  --------------  -----  \n",
            " 0   Time    95162 non-null  int64  \n",
            " 1   V1      95162 non-null  float64\n",
            " 2   V2      95162 non-null  float64\n",
            " 3   V3      95162 non-null  float64\n",
            " 4   V4      95162 non-null  float64\n",
            " 5   V5      95162 non-null  float64\n",
            " 6   V6      95162 non-null  float64\n",
            " 7   V7      95162 non-null  float64\n",
            " 8   V8      95162 non-null  float64\n",
            " 9   V9      95162 non-null  float64\n",
            " 10  V10     95162 non-null  float64\n",
            " 11  V11     95162 non-null  float64\n",
            " 12  V12     95162 non-null  float64\n",
            " 13  V13     95161 non-null  float64\n",
            " 14  V14     95161 non-null  float64\n",
            " 15  V15     95161 non-null  float64\n",
            " 16  V16     95161 non-null  float64\n",
            " 17  V17     95161 non-null  float64\n",
            " 18  V18     95161 non-null  float64\n",
            " 19  V19     95161 non-null  float64\n",
            " 20  V20     95161 non-null  float64\n",
            " 21  V21     95161 non-null  float64\n",
            " 22  V22     95161 non-null  float64\n",
            " 23  V23     95161 non-null  float64\n",
            " 24  V24     95161 non-null  float64\n",
            " 25  V25     95161 non-null  float64\n",
            " 26  V26     95161 non-null  float64\n",
            " 27  V27     95161 non-null  float64\n",
            " 28  V28     95161 non-null  float64\n",
            " 29  Amount  95161 non-null  float64\n",
            " 30  Class   95161 non-null  float64\n",
            "dtypes: float64(30), int64(1)\n",
            "memory usage: 22.5 MB\n"
          ]
        }
      ],
      "source": [
        "credit_card.info()"
      ]
    },
    {
      "cell_type": "code",
      "execution_count": 7,
      "id": "79a32ea1",
      "metadata": {
        "colab": {
          "base_uri": "https://localhost:8080/"
        },
        "id": "79a32ea1",
        "outputId": "eeec1bfb-f158-49ac-d9a4-108769a1be69"
      },
      "outputs": [
        {
          "output_type": "execute_result",
          "data": {
            "text/plain": [
              "Time      0\n",
              "V1        0\n",
              "V2        0\n",
              "V3        0\n",
              "V4        0\n",
              "V5        0\n",
              "V6        0\n",
              "V7        0\n",
              "V8        0\n",
              "V9        0\n",
              "V10       0\n",
              "V11       0\n",
              "V12       0\n",
              "V13       1\n",
              "V14       1\n",
              "V15       1\n",
              "V16       1\n",
              "V17       1\n",
              "V18       1\n",
              "V19       1\n",
              "V20       1\n",
              "V21       1\n",
              "V22       1\n",
              "V23       1\n",
              "V24       1\n",
              "V25       1\n",
              "V26       1\n",
              "V27       1\n",
              "V28       1\n",
              "Amount    1\n",
              "Class     1\n",
              "dtype: int64"
            ]
          },
          "metadata": {},
          "execution_count": 7
        }
      ],
      "source": [
        "credit_card.isnull().sum()"
      ]
    },
    {
      "cell_type": "code",
      "execution_count": 8,
      "id": "e6518ccd",
      "metadata": {
        "colab": {
          "base_uri": "https://localhost:8080/",
          "height": 287
        },
        "id": "e6518ccd",
        "outputId": "24a5f2dc-c23c-4db2-a962-3974e7638e59"
      },
      "outputs": [
        {
          "output_type": "display_data",
          "data": {
            "text/plain": [
              "<Figure size 432x288 with 2 Axes>"
            ],
            "image/png": "[encoded data removed]"
          },
          "metadata": {
            "needs_background": "light"
          }
        }
      ],
      "source": [
        "sns.heatmap(credit_card.isnull())\n",
        "plt.show()"
      ]
    },
    {
      "cell_type": "code",
      "execution_count": 9,
      "id": "b2b63c4a",
      "metadata": {
        "id": "b2b63c4a"
      },
      "outputs": [],
      "source": [
        "cc = credit_card.copy()"
      ]
    },
    {
      "cell_type": "code",
      "execution_count": 10,
      "id": "b4cf18e3",
      "metadata": {
        "colab": {
          "base_uri": "https://localhost:8080/",
          "height": 299
        },
        "id": "b4cf18e3",
        "outputId": "d6c56956-398b-4f84-b670-6e52ed48f750"
      },
      "outputs": [
        {
          "output_type": "execute_result",
          "data": {
            "text/plain": [
              "   Time        V1        V2        V3        V4        V5        V6        V7  \\\n",
              "0     0 -1.359807 -0.072781  2.536347  1.378155 -0.338321  0.462388  0.239599   \n",
              "1     0  1.191857  0.266151  0.166480  0.448154  0.060018 -0.082361 -0.078803   \n",
              "2     1 -1.358354 -1.340163  1.773209  0.379780 -0.503198  1.800499  0.791461   \n",
              "3     1 -0.966272 -0.185226  1.792993 -0.863291 -0.010309  1.247203  0.237609   \n",
              "4     2 -1.158233  0.877737  1.548718  0.403034 -0.407193  0.095921  0.592941   \n",
              "\n",
              "         V8        V9  ...       V21       V22       V23       V24       V25  \\\n",
              "0  0.098698  0.363787  ... -0.018307  0.277838 -0.110474  0.066928  0.128539   \n",
              "1  0.085102 -0.255425  ... -0.225775 -0.638672  0.101288 -0.339846  0.167170   \n",
              "2  0.247676 -1.514654  ...  0.247998  0.771679  0.909412 -0.689281 -0.327642   \n",
              "3  0.377436 -1.387024  ... -0.108300  0.005274 -0.190321 -1.175575  0.647376   \n",
              "4 -0.270533  0.817739  ... -0.009431  0.798278 -0.137458  0.141267 -0.206010   \n",
              "\n",
              "        V26       V27       V28  Amount  Class  \n",
              "0 -0.189115  0.133558 -0.021053  149.62    0.0  \n",
              "1  0.125895 -0.008983  0.014724    2.69    0.0  \n",
              "2 -0.139097 -0.055353 -0.059752  378.66    0.0  \n",
              "3 -0.221929  0.062723  0.061458  123.50    0.0  \n",
              "4  0.502292  0.219422  0.215153   69.99    0.0  \n",
              "\n",
              "[5 rows x 31 columns]"
            ],
            "text/html": [
              "\n",
              "  <div id=\"df-8b31c6c8-0027-4918-994e-003175a06c61\">\n",
              "    <div class=\"colab-df-container\">\n",
              "      <div>\n",
              "<style scoped>\n",
              "    .dataframe tbody tr th:only-of-type {\n",
              "        vertical-align: middle;\n",
              "    }\n",
              "\n",
              "    .dataframe tbody tr th {\n",
              "        vertical-align: top;\n",
              "    }\n",
              "\n",
              "    .dataframe thead th {\n",
              "        text-align: right;\n",
              "    }\n",
              "</style>\n",
              "<table border=\"1\" class=\"dataframe\">\n",
              "  <thead>\n",
              "    <tr style=\"text-align: right;\">\n",
              "      <th></th>\n",
              "      <th>Time</th>\n",
              "      <th>V1</th>\n",
              "      <th>V2</th>\n",
              "      <th>V3</th>\n",
              "      <th>V4</th>\n",
              "      <th>V5</th>\n",
              "      <th>V6</th>\n",
              "      <th>V7</th>\n",
              "      <th>V8</th>\n",
              "      <th>V9</th>\n",
              "      <th>...</th>\n",
              "      <th>V21</th>\n",
              "      <th>V22</th>\n",
              "      <th>V23</th>\n",
              "      <th>V24</th>\n",
              "      <th>V25</th>\n",
              "      <th>V26</th>\n",
              "      <th>V27</th>\n",
              "      <th>V28</th>\n",
              "      <th>Amount</th>\n",
              "      <th>Class</th>\n",
              "    </tr>\n",
              "  </thead>\n",
              "  <tbody>\n",
              "    <tr>\n",
              "      <th>0</th>\n",
              "      <td>0</td>\n",
              "      <td>-1.359807</td>\n",
              "      <td>-0.072781</td>\n",
              "      <td>2.536347</td>\n",
              "      <td>1.378155</td>\n",
              "      <td>-0.338321</td>\n",
              "      <td>0.462388</td>\n",
              "      <td>0.239599</td>\n",
              "      <td>0.098698</td>\n",
              "      <td>0.363787</td>\n",
              "      <td>...</td>\n",
              "      <td>-0.018307</td>\n",
              "      <td>0.277838</td>\n",
              "      <td>-0.110474</td>\n",
              "      <td>0.066928</td>\n",
              "      <td>0.128539</td>\n",
              "      <td>-0.189115</td>\n",
              "      <td>0.133558</td>\n",
              "      <td>-0.021053</td>\n",
              "      <td>149.62</td>\n",
              "      <td>0.0</td>\n",
              "    </tr>\n",
              "    <tr>\n",
              "      <th>1</th>\n",
              "      <td>0</td>\n",
              "      <td>1.191857</td>\n",
              "      <td>0.266151</td>\n",
              "      <td>0.166480</td>\n",
              "      <td>0.448154</td>\n",
              "      <td>0.060018</td>\n",
              "      <td>-0.082361</td>\n",
              "      <td>-0.078803</td>\n",
              "      <td>0.085102</td>\n",
              "      <td>-0.255425</td>\n",
              "      <td>...</td>\n",
              "      <td>-0.225775</td>\n",
              "      <td>-0.638672</td>\n",
              "      <td>0.101288</td>\n",
              "      <td>-0.339846</td>\n",
              "      <td>0.167170</td>\n",
              "      <td>0.125895</td>\n",
              "      <td>-0.008983</td>\n",
              "      <td>0.014724</td>\n",
              "      <td>2.69</td>\n",
              "      <td>0.0</td>\n",
              "    </tr>\n",
              "    <tr>\n",
              "      <th>2</th>\n",
              "      <td>1</td>\n",
              "      <td>-1.358354</td>\n",
              "      <td>-1.340163</td>\n",
              "      <td>1.773209</td>\n",
              "      <td>0.379780</td>\n",
              "      <td>-0.503198</td>\n",
              "      <td>1.800499</td>\n",
              "      <td>0.791461</td>\n",
              "      <td>0.247676</td>\n",
              "      <td>-1.514654</td>\n",
              "      <td>...</td>\n",
              "      <td>0.247998</td>\n",
              "      <td>0.771679</td>\n",
              "      <td>0.909412</td>\n",
              "      <td>-0.689281</td>\n",
              "      <td>-0.327642</td>\n",
              "      <td>-0.139097</td>\n",
              "      <td>-0.055353</td>\n",
              "      <td>-0.059752</td>\n",
              "      <td>378.66</td>\n",
              "      <td>0.0</td>\n",
              "    </tr>\n",
              "    <tr>\n",
              "      <th>3</th>\n",
              "      <td>1</td>\n",
              "      <td>-0.966272</td>\n",
              "      <td>-0.185226</td>\n",
              "      <td>1.792993</td>\n",
              "      <td>-0.863291</td>\n",
              "      <td>-0.010309</td>\n",
              "      <td>1.247203</td>\n",
              "      <td>0.237609</td>\n",
              "      <td>0.377436</td>\n",
              "      <td>-1.387024</td>\n",
              "      <td>...</td>\n",
              "      <td>-0.108300</td>\n",
              "      <td>0.005274</td>\n",
              "      <td>-0.190321</td>\n",
              "      <td>-1.175575</td>\n",
              "      <td>0.647376</td>\n",
              "      <td>-0.221929</td>\n",
              "      <td>0.062723</td>\n",
              "      <td>0.061458</td>\n",
              "      <td>123.50</td>\n",
              "      <td>0.0</td>\n",
              "    </tr>\n",
              "    <tr>\n",
              "      <th>4</th>\n",
              "      <td>2</td>\n",
              "      <td>-1.158233</td>\n",
              "      <td>0.877737</td>\n",
              "      <td>1.548718</td>\n",
              "      <td>0.403034</td>\n",
              "      <td>-0.407193</td>\n",
              "      <td>0.095921</td>\n",
              "      <td>0.592941</td>\n",
              "      <td>-0.270533</td>\n",
              "      <td>0.817739</td>\n",
              "      <td>...</td>\n",
              "      <td>-0.009431</td>\n",
              "      <td>0.798278</td>\n",
              "      <td>-0.137458</td>\n",
              "      <td>0.141267</td>\n",
              "      <td>-0.206010</td>\n",
              "      <td>0.502292</td>\n",
              "      <td>0.219422</td>\n",
              "      <td>0.215153</td>\n",
              "      <td>69.99</td>\n",
              "      <td>0.0</td>\n",
              "    </tr>\n",
              "  </tbody>\n",
              "</table>\n",
              "<p>5 rows × 31 columns</p>\n",
              "</div>\n",
              "      <button class=\"colab-df-convert\" onclick=\"convertToInteractive('df-8b31c6c8-0027-4918-994e-003175a06c61')\"\n",
              "              title=\"Convert this dataframe to an interactive table.\"\n",
              "              style=\"display:none;\">\n",
              "        \n",
              "  <svg xmlns=\"http://www.w3.org/2000/svg\" height=\"24px\"viewBox=\"0 0 24 24\"\n",
              "       width=\"24px\">\n",
              "    <path d=\"M0 0h24v24H0V0z\" fill=\"none\"/>\n",
              "    <path d=\"M18.56 5.44l.94 2.06.94-2.06 2.06-.94-2.06-.94-.94-2.06-.94 2.06-2.06.94zm-11 1L8.5 8.5l.94-2.06 2.06-.94-2.06-.94L8.5 2.5l-.94 2.06-2.06.94zm10 10l.94 2.06.94-2.06 2.06-.94-2.06-.94-.94-2.06-.94 2.06-2.06.94z\"/><path d=\"M17.41 7.96l-1.37-1.37c-.4-.4-.92-.59-1.43-.59-.52 0-1.04.2-1.43.59L10.3 9.45l-7.72 7.72c-.78.78-.78 2.05 0 2.83L4 21.41c.39.39.9.59 1.41.59.51 0 1.02-.2 1.41-.59l7.78-7.78 2.81-2.81c.8-.78.8-2.07 0-2.86zM5.41 20L4 18.59l7.72-7.72 1.47 1.35L5.41 20z\"/>\n",
              "  </svg>\n",
              "      </button>\n",
              "      \n",
              "  <style>\n",
              "    .colab-df-container {\n",
              "      display:flex;\n",
              "      flex-wrap:wrap;\n",
              "      gap: 12px;\n",
              "    }\n",
              "\n",
              "    .colab-df-convert {\n",
              "      background-color: #E8F0FE;\n",
              "      border: none;\n",
              "      border-radius: 50%;\n",
              "      cursor: pointer;\n",
              "      display: none;\n",
              "      fill: #1967D2;\n",
              "      height: 32px;\n",
              "      padding: 0 0 0 0;\n",
              "      width: 32px;\n",
              "    }\n",
              "\n",
              "    .colab-df-convert:hover {\n",
              "      background-color: #E2EBFA;\n",
              "      box-shadow: 0px 1px 2px rgba(60, 64, 67, 0.3), 0px 1px 3px 1px rgba(60, 64, 67, 0.15);\n",
              "      fill: #174EA6;\n",
              "    }\n",
              "\n",
              "    [theme=dark] .colab-df-convert {\n",
              "      background-color: #3B4455;\n",
              "      fill: #D2E3FC;\n",
              "    }\n",
              "\n",
              "    [theme=dark] .colab-df-convert:hover {\n",
              "      background-color: #434B5C;\n",
              "      box-shadow: 0px 1px 3px 1px rgba(0, 0, 0, 0.15);\n",
              "      filter: drop-shadow(0px 1px 2px rgba(0, 0, 0, 0.3));\n",
              "      fill: #FFFFFF;\n",
              "    }\n",
              "  </style>\n",
              "\n",
              "      <script>\n",
              "        const buttonEl =\n",
              "          document.querySelector('#df-8b31c6c8-0027-4918-994e-003175a06c61 button.colab-df-convert');\n",
              "        buttonEl.style.display =\n",
              "          google.colab.kernel.accessAllowed ? 'block' : 'none';\n",
              "\n",
              "        async function convertToInteractive(key) {\n",
              "          const element = document.querySelector('#df-8b31c6c8-0027-4918-994e-003175a06c61');\n",
              "          const dataTable =\n",
              "            await google.colab.kernel.invokeFunction('convertToInteractive',\n",
              "                                                     [key], {});\n",
              "          if (!dataTable) return;\n",
              "\n",
              "          const docLinkHtml = 'Like what you see? Visit the ' +\n",
              "            '<a target=\"_blank\" href=https://colab.research.google.com/notebooks/data_table.ipynb>data table notebook</a>'\n",
              "            + ' to learn more about interactive tables.';\n",
              "          element.innerHTML = '';\n",
              "          dataTable['output_type'] = 'display_data';\n",
              "          await google.colab.output.renderOutput(dataTable, element);\n",
              "          const docLink = document.createElement('div');\n",
              "          docLink.innerHTML = docLinkHtml;\n",
              "          element.appendChild(docLink);\n",
              "        }\n",
              "      </script>\n",
              "    </div>\n",
              "  </div>\n",
              "  "
            ]
          },
          "metadata": {},
          "execution_count": 10
        }
      ],
      "source": [
        "cc.head()"
      ]
    },
    {
      "cell_type": "code",
      "execution_count": 11,
      "id": "e6133e0b",
      "metadata": {
        "colab": {
          "base_uri": "https://localhost:8080/"
        },
        "id": "e6133e0b",
        "outputId": "14ec3a56-9127-4322-9269-39c000adf2c6"
      },
      "outputs": [
        {
          "output_type": "execute_result",
          "data": {
            "text/plain": [
              "0.0    94944\n",
              "1.0      217\n",
              "Name: Class, dtype: int64"
            ]
          },
          "metadata": {},
          "execution_count": 11
        }
      ],
      "source": [
        "cc['Class'].value_counts()"
      ]
    },
    {
      "cell_type": "code",
      "execution_count": 12,
      "id": "52c261f7",
      "metadata": {
        "colab": {
          "base_uri": "https://localhost:8080/",
          "height": 237
        },
        "id": "52c261f7",
        "outputId": "2b047c73-3084-489f-9276-0bd65a3b38c5"
      },
      "outputs": [
        {
          "output_type": "execute_result",
          "data": {
            "text/plain": [
              "               Time       V1        V2        V3       V4        V5        V6  \\\n",
              "Class                                                                           \n",
              "0.0    41232.783620 -0.25064 -0.047145  0.696491  0.15125 -0.270069  0.097914   \n",
              "1.0    35870.354839 -6.16618  4.217965 -8.087819  4.99603 -4.444345 -1.845983   \n",
              "\n",
              "             V7        V8        V9  ...       V20       V21       V22  \\\n",
              "Class                                ...                                 \n",
              "0.0   -0.093292  0.048787 -0.032333  ...  0.043401 -0.031938 -0.107340   \n",
              "1.0   -6.417590  2.796291 -2.953535  ...  0.354728  0.731128 -0.127758   \n",
              "\n",
              "            V23       V24      V25       V26       V27       V28      Amount  \n",
              "Class                                                                         \n",
              "0.0   -0.037071  0.009933  0.13190  0.026607 -0.000819  0.001332   98.685374  \n",
              "1.0   -0.247689 -0.102596  0.20696  0.097699  0.532822  0.035472  109.784286  \n",
              "\n",
              "[2 rows x 30 columns]"
            ],
            "text/html": [
              "\n",
              "  <div id=\"df-8a6b1c7f-c7d3-4998-850b-4c34cb706524\">\n",
              "    <div class=\"colab-df-container\">\n",
              "      <div>\n",
              "<style scoped>\n",
              "    .dataframe tbody tr th:only-of-type {\n",
              "        vertical-align: middle;\n",
              "    }\n",
              "\n",
              "    .dataframe tbody tr th {\n",
              "        vertical-align: top;\n",
              "    }\n",
              "\n",
              "    .dataframe thead th {\n",
              "        text-align: right;\n",
              "    }\n",
              "</style>\n",
              "<table border=\"1\" class=\"dataframe\">\n",
              "  <thead>\n",
              "    <tr style=\"text-align: right;\">\n",
              "      <th></th>\n",
              "      <th>Time</th>\n",
              "      <th>V1</th>\n",
              "      <th>V2</th>\n",
              "      <th>V3</th>\n",
              "      <th>V4</th>\n",
              "      <th>V5</th>\n",
              "      <th>V6</th>\n",
              "      <th>V7</th>\n",
              "      <th>V8</th>\n",
              "      <th>V9</th>\n",
              "      <th>...</th>\n",
              "      <th>V20</th>\n",
              "      <th>V21</th>\n",
              "      <th>V22</th>\n",
              "      <th>V23</th>\n",
              "      <th>V24</th>\n",
              "      <th>V25</th>\n",
              "      <th>V26</th>\n",
              "      <th>V27</th>\n",
              "      <th>V28</th>\n",
              "      <th>Amount</th>\n",
              "    </tr>\n",
              "    <tr>\n",
              "      <th>Class</th>\n",
              "      <th></th>\n",
              "      <th></th>\n",
              "      <th></th>\n",
              "      <th></th>\n",
              "      <th></th>\n",
              "      <th></th>\n",
              "      <th></th>\n",
              "      <th></th>\n",
              "      <th></th>\n",
              "      <th></th>\n",
              "      <th></th>\n",
              "      <th></th>\n",
              "      <th></th>\n",
              "      <th></th>\n",
              "      <th></th>\n",
              "      <th></th>\n",
              "      <th></th>\n",
              "      <th></th>\n",
              "      <th></th>\n",
              "      <th></th>\n",
              "      <th></th>\n",
              "    </tr>\n",
              "  </thead>\n",
              "  <tbody>\n",
              "    <tr>\n",
              "      <th>0.0</th>\n",
              "      <td>41232.783620</td>\n",
              "      <td>-0.25064</td>\n",
              "      <td>-0.047145</td>\n",
              "      <td>0.696491</td>\n",
              "      <td>0.15125</td>\n",
              "      <td>-0.270069</td>\n",
              "      <td>0.097914</td>\n",
              "      <td>-0.093292</td>\n",
              "      <td>0.048787</td>\n",
              "      <td>-0.032333</td>\n",
              "      <td>...</td>\n",
              "      <td>0.043401</td>\n",
              "      <td>-0.031938</td>\n",
              "      <td>-0.107340</td>\n",
              "      <td>-0.037071</td>\n",
              "      <td>0.009933</td>\n",
              "      <td>0.13190</td>\n",
              "      <td>0.026607</td>\n",
              "      <td>-0.000819</td>\n",
              "      <td>0.001332</td>\n",
              "      <td>98.685374</td>\n",
              "    </tr>\n",
              "    <tr>\n",
              "      <th>1.0</th>\n",
              "      <td>35870.354839</td>\n",
              "      <td>-6.16618</td>\n",
              "      <td>4.217965</td>\n",
              "      <td>-8.087819</td>\n",
              "      <td>4.99603</td>\n",
              "      <td>-4.444345</td>\n",
              "      <td>-1.845983</td>\n",
              "      <td>-6.417590</td>\n",
              "      <td>2.796291</td>\n",
              "      <td>-2.953535</td>\n",
              "      <td>...</td>\n",
              "      <td>0.354728</td>\n",
              "      <td>0.731128</td>\n",
              "      <td>-0.127758</td>\n",
              "      <td>-0.247689</td>\n",
              "      <td>-0.102596</td>\n",
              "      <td>0.20696</td>\n",
              "      <td>0.097699</td>\n",
              "      <td>0.532822</td>\n",
              "      <td>0.035472</td>\n",
              "      <td>109.784286</td>\n",
              "    </tr>\n",
              "  </tbody>\n",
              "</table>\n",
              "<p>2 rows × 30 columns</p>\n",
              "</div>\n",
              "      <button class=\"colab-df-convert\" onclick=\"convertToInteractive('df-8a6b1c7f-c7d3-4998-850b-4c34cb706524')\"\n",
              "              title=\"Convert this dataframe to an interactive table.\"\n",
              "              style=\"display:none;\">\n",
              "        \n",
              "  <svg xmlns=\"http://www.w3.org/2000/svg\" height=\"24px\"viewBox=\"0 0 24 24\"\n",
              "       width=\"24px\">\n",
              "    <path d=\"M0 0h24v24H0V0z\" fill=\"none\"/>\n",
              "    <path d=\"M18.56 5.44l.94 2.06.94-2.06 2.06-.94-2.06-.94-.94-2.06-.94 2.06-2.06.94zm-11 1L8.5 8.5l.94-2.06 2.06-.94-2.06-.94L8.5 2.5l-.94 2.06-2.06.94zm10 10l.94 2.06.94-2.06 2.06-.94-2.06-.94-.94-2.06-.94 2.06-2.06.94z\"/><path d=\"M17.41 7.96l-1.37-1.37c-.4-.4-.92-.59-1.43-.59-.52 0-1.04.2-1.43.59L10.3 9.45l-7.72 7.72c-.78.78-.78 2.05 0 2.83L4 21.41c.39.39.9.59 1.41.59.51 0 1.02-.2 1.41-.59l7.78-7.78 2.81-2.81c.8-.78.8-2.07 0-2.86zM5.41 20L4 18.59l7.72-7.72 1.47 1.35L5.41 20z\"/>\n",
              "  </svg>\n",
              "      </button>\n",
              "      \n",
              "  <style>\n",
              "    .colab-df-container {\n",
              "      display:flex;\n",
              "      flex-wrap:wrap;\n",
              "      gap: 12px;\n",
              "    }\n",
              "\n",
              "    .colab-df-convert {\n",
              "      background-color: #E8F0FE;\n",
              "      border: none;\n",
              "      border-radius: 50%;\n",
              "      cursor: pointer;\n",
              "      display: none;\n",
              "      fill: #1967D2;\n",
              "      height: 32px;\n",
              "      padding: 0 0 0 0;\n",
              "      width: 32px;\n",
              "    }\n",
              "\n",
              "    .colab-df-convert:hover {\n",
              "      background-color: #E2EBFA;\n",
              "      box-shadow: 0px 1px 2px rgba(60, 64, 67, 0.3), 0px 1px 3px 1px rgba(60, 64, 67, 0.15);\n",
              "      fill: #174EA6;\n",
              "    }\n",
              "\n",
              "    [theme=dark] .colab-df-convert {\n",
              "      background-color: #3B4455;\n",
              "      fill: #D2E3FC;\n",
              "    }\n",
              "\n",
              "    [theme=dark] .colab-df-convert:hover {\n",
              "      background-color: #434B5C;\n",
              "      box-shadow: 0px 1px 3px 1px rgba(0, 0, 0, 0.15);\n",
              "      filter: drop-shadow(0px 1px 2px rgba(0, 0, 0, 0.3));\n",
              "      fill: #FFFFFF;\n",
              "    }\n",
              "  </style>\n",
              "\n",
              "      <script>\n",
              "        const buttonEl =\n",
              "          document.querySelector('#df-8a6b1c7f-c7d3-4998-850b-4c34cb706524 button.colab-df-convert');\n",
              "        buttonEl.style.display =\n",
              "          google.colab.kernel.accessAllowed ? 'block' : 'none';\n",
              "\n",
              "        async function convertToInteractive(key) {\n",
              "          const element = document.querySelector('#df-8a6b1c7f-c7d3-4998-850b-4c34cb706524');\n",
              "          const dataTable =\n",
              "            await google.colab.kernel.invokeFunction('convertToInteractive',\n",
              "                                                     [key], {});\n",
              "          if (!dataTable) return;\n",
              "\n",
              "          const docLinkHtml = 'Like what you see? Visit the ' +\n",
              "            '<a target=\"_blank\" href=https://colab.research.google.com/notebooks/data_table.ipynb>data table notebook</a>'\n",
              "            + ' to learn more about interactive tables.';\n",
              "          element.innerHTML = '';\n",
              "          dataTable['output_type'] = 'display_data';\n",
              "          await google.colab.output.renderOutput(dataTable, element);\n",
              "          const docLink = document.createElement('div');\n",
              "          docLink.innerHTML = docLinkHtml;\n",
              "          element.appendChild(docLink);\n",
              "        }\n",
              "      </script>\n",
              "    </div>\n",
              "  </div>\n",
              "  "
            ]
          },
          "metadata": {},
          "execution_count": 12
        }
      ],
      "source": [
        "cc.groupby('Class').mean()"
      ]
    },
    {
      "cell_type": "code",
      "execution_count": 13,
      "id": "e56a12e8",
      "metadata": {
        "id": "e56a12e8"
      },
      "outputs": [],
      "source": [
        "normal = cc[cc.Class == 0]\n",
        "fraud = cc[cc.Class == 1]"
      ]
    },
    {
      "cell_type": "code",
      "execution_count": 14,
      "id": "40f4934c",
      "metadata": {
        "colab": {
          "base_uri": "https://localhost:8080/"
        },
        "id": "40f4934c",
        "outputId": "c65f8329-c415-436a-836d-676e4c0dcd3c"
      },
      "outputs": [
        {
          "output_type": "execute_result",
          "data": {
            "text/plain": [
              "((94944, 31), (217, 31))"
            ]
          },
          "metadata": {},
          "execution_count": 14
        }
      ],
      "source": [
        "normal.shape , fraud.shape"
      ]
    },
    {
      "cell_type": "code",
      "execution_count": 15,
      "id": "899d41fe",
      "metadata": {
        "colab": {
          "base_uri": "https://localhost:8080/"
        },
        "id": "899d41fe",
        "outputId": "f88973a6-69b9-46d9-88e1-f726b62e89cf"
      },
      "outputs": [
        {
          "output_type": "execute_result",
          "data": {
            "text/plain": [
              "count    94944.000000\n",
              "mean        98.685374\n",
              "std        267.432993\n",
              "min          0.000000\n",
              "25%          7.600000\n",
              "50%         26.720000\n",
              "75%         89.752500\n",
              "max      19656.530000\n",
              "Name: Amount, dtype: float64"
            ]
          },
          "metadata": {},
          "execution_count": 15
        }
      ],
      "source": [
        "normal.Amount.describe()"
      ]
    },
    {
      "cell_type": "code",
      "execution_count": 16,
      "id": "defc8dae",
      "metadata": {
        "colab": {
          "base_uri": "https://localhost:8080/"
        },
        "id": "defc8dae",
        "outputId": "3568d42b-2558-43b7-cb78-bdddde547596"
      },
      "outputs": [
        {
          "output_type": "execute_result",
          "data": {
            "text/plain": [
              "count     217.000000\n",
              "mean      109.784286\n",
              "std       243.927116\n",
              "min         0.000000\n",
              "25%         1.000000\n",
              "50%         7.580000\n",
              "75%        99.990000\n",
              "max      1809.680000\n",
              "Name: Amount, dtype: float64"
            ]
          },
          "metadata": {},
          "execution_count": 16
        }
      ],
      "source": [
        "fraud.Amount.describe()"
      ]
    },
    {
      "cell_type": "code",
      "execution_count": 17,
      "id": "9e3077ba",
      "metadata": {
        "id": "9e3077ba"
      },
      "outputs": [],
      "source": [
        "#As the data is not distributed evenly, we must try to disribute evenly\n",
        "normal_sample = normal.sample(n = 492)"
      ]
    },
    {
      "cell_type": "code",
      "execution_count": 18,
      "id": "3397c52d",
      "metadata": {
        "id": "3397c52d"
      },
      "outputs": [],
      "source": [
        "cc_final = pd.concat([normal_sample, fraud], axis = 0)"
      ]
    },
    {
      "cell_type": "code",
      "execution_count": 19,
      "id": "b44aa119",
      "metadata": {
        "colab": {
          "base_uri": "https://localhost:8080/",
          "height": 299
        },
        "id": "b44aa119",
        "outputId": "dcdbadfc-a208-4bbb-cd50-46fbb92503fe"
      },
      "outputs": [
        {
          "output_type": "execute_result",
          "data": {
            "text/plain": [
              "        Time        V1        V2        V3        V4        V5        V6  \\\n",
              "67875  52731 -1.476612 -0.900380  1.031555  3.273433 -5.122927  5.885657   \n",
              "82654  59492 -0.407769  1.039473  0.729375  1.193844 -0.769400 -0.231593   \n",
              "83053  59669  0.326007  1.286638 -2.007181  2.419675 -1.532902 -1.432803   \n",
              "47990  43450  0.078066  0.508640  1.680155  0.841552  0.025165  0.480944   \n",
              "37533  38997 -0.357581  0.908918  1.687209  0.973537  0.365381 -0.682356   \n",
              "\n",
              "             V7        V8        V9  ...       V21       V22       V23  \\\n",
              "67875  4.021096  0.070830 -0.085064  ...  0.108419  0.979071  0.513227   \n",
              "82654  0.010087  0.359680 -0.426164  ...  0.103228  0.349138  0.264682   \n",
              "83053 -2.459530  0.617738 -1.125861  ...  0.556895  0.169776 -0.174357   \n",
              "47990  0.447201 -0.579214  1.410880  ... -0.033151  0.447812 -0.043093   \n",
              "37533  0.943466 -0.693524 -0.451395  ... -0.261895 -0.307596  0.119065   \n",
              "\n",
              "            V24       V25       V26       V27       V28   Amount  Class  \n",
              "67875 -1.179728  0.009135  0.562430  0.574345 -0.155964  1202.19    0.0  \n",
              "82654  0.584597 -1.401814  0.228701 -0.120297  0.173589    30.92    0.0  \n",
              "83053  0.308061  0.710996 -0.231030  0.580495  0.300984     6.27    1.0  \n",
              "47990 -0.484721 -1.257232 -0.627683 -0.763481 -0.495913    12.99    0.0  \n",
              "37533  0.384212 -0.632086  0.203812 -0.417865 -0.306142     1.98    0.0  \n",
              "\n",
              "[5 rows x 31 columns]"
            ],
            "text/html": [
              "\n",
              "  <div id=\"df-6aabf8a6-0430-4b4c-b399-6d398f28e5af\">\n",
              "    <div class=\"colab-df-container\">\n",
              "      <div>\n",
              "<style scoped>\n",
              "    .dataframe tbody tr th:only-of-type {\n",
              "        vertical-align: middle;\n",
              "    }\n",
              "\n",
              "    .dataframe tbody tr th {\n",
              "        vertical-align: top;\n",
              "    }\n",
              "\n",
              "    .dataframe thead th {\n",
              "        text-align: right;\n",
              "    }\n",
              "</style>\n",
              "<table border=\"1\" class=\"dataframe\">\n",
              "  <thead>\n",
              "    <tr style=\"text-align: right;\">\n",
              "      <th></th>\n",
              "      <th>Time</th>\n",
              "      <th>V1</th>\n",
              "      <th>V2</th>\n",
              "      <th>V3</th>\n",
              "      <th>V4</th>\n",
              "      <th>V5</th>\n",
              "      <th>V6</th>\n",
              "      <th>V7</th>\n",
              "      <th>V8</th>\n",
              "      <th>V9</th>\n",
              "      <th>...</th>\n",
              "      <th>V21</th>\n",
              "      <th>V22</th>\n",
              "      <th>V23</th>\n",
              "      <th>V24</th>\n",
              "      <th>V25</th>\n",
              "      <th>V26</th>\n",
              "      <th>V27</th>\n",
              "      <th>V28</th>\n",
              "      <th>Amount</th>\n",
              "      <th>Class</th>\n",
              "    </tr>\n",
              "  </thead>\n",
              "  <tbody>\n",
              "    <tr>\n",
              "      <th>67875</th>\n",
              "      <td>52731</td>\n",
              "      <td>-1.476612</td>\n",
              "      <td>-0.900380</td>\n",
              "      <td>1.031555</td>\n",
              "      <td>3.273433</td>\n",
              "      <td>-5.122927</td>\n",
              "      <td>5.885657</td>\n",
              "      <td>4.021096</td>\n",
              "      <td>0.070830</td>\n",
              "      <td>-0.085064</td>\n",
              "      <td>...</td>\n",
              "      <td>0.108419</td>\n",
              "      <td>0.979071</td>\n",
              "      <td>0.513227</td>\n",
              "      <td>-1.179728</td>\n",
              "      <td>0.009135</td>\n",
              "      <td>0.562430</td>\n",
              "      <td>0.574345</td>\n",
              "      <td>-0.155964</td>\n",
              "      <td>1202.19</td>\n",
              "      <td>0.0</td>\n",
              "    </tr>\n",
              "    <tr>\n",
              "      <th>82654</th>\n",
              "      <td>59492</td>\n",
              "      <td>-0.407769</td>\n",
              "      <td>1.039473</td>\n",
              "      <td>0.729375</td>\n",
              "      <td>1.193844</td>\n",
              "      <td>-0.769400</td>\n",
              "      <td>-0.231593</td>\n",
              "      <td>0.010087</td>\n",
              "      <td>0.359680</td>\n",
              "      <td>-0.426164</td>\n",
              "      <td>...</td>\n",
              "      <td>0.103228</td>\n",
              "      <td>0.349138</td>\n",
              "      <td>0.264682</td>\n",
              "      <td>0.584597</td>\n",
              "      <td>-1.401814</td>\n",
              "      <td>0.228701</td>\n",
              "      <td>-0.120297</td>\n",
              "      <td>0.173589</td>\n",
              "      <td>30.92</td>\n",
              "      <td>0.0</td>\n",
              "    </tr>\n",
              "    <tr>\n",
              "      <th>83053</th>\n",
              "      <td>59669</td>\n",
              "      <td>0.326007</td>\n",
              "      <td>1.286638</td>\n",
              "      <td>-2.007181</td>\n",
              "      <td>2.419675</td>\n",
              "      <td>-1.532902</td>\n",
              "      <td>-1.432803</td>\n",
              "      <td>-2.459530</td>\n",
              "      <td>0.617738</td>\n",
              "      <td>-1.125861</td>\n",
              "      <td>...</td>\n",
              "      <td>0.556895</td>\n",
              "      <td>0.169776</td>\n",
              "      <td>-0.174357</td>\n",
              "      <td>0.308061</td>\n",
              "      <td>0.710996</td>\n",
              "      <td>-0.231030</td>\n",
              "      <td>0.580495</td>\n",
              "      <td>0.300984</td>\n",
              "      <td>6.27</td>\n",
              "      <td>1.0</td>\n",
              "    </tr>\n",
              "    <tr>\n",
              "      <th>47990</th>\n",
              "      <td>43450</td>\n",
              "      <td>0.078066</td>\n",
              "      <td>0.508640</td>\n",
              "      <td>1.680155</td>\n",
              "      <td>0.841552</td>\n",
              "      <td>0.025165</td>\n",
              "      <td>0.480944</td>\n",
              "      <td>0.447201</td>\n",
              "      <td>-0.579214</td>\n",
              "      <td>1.410880</td>\n",
              "      <td>...</td>\n",
              "      <td>-0.033151</td>\n",
              "      <td>0.447812</td>\n",
              "      <td>-0.043093</td>\n",
              "      <td>-0.484721</td>\n",
              "      <td>-1.257232</td>\n",
              "      <td>-0.627683</td>\n",
              "      <td>-0.763481</td>\n",
              "      <td>-0.495913</td>\n",
              "      <td>12.99</td>\n",
              "      <td>0.0</td>\n",
              "    </tr>\n",
              "    <tr>\n",
              "      <th>37533</th>\n",
              "      <td>38997</td>\n",
              "      <td>-0.357581</td>\n",
              "      <td>0.908918</td>\n",
              "      <td>1.687209</td>\n",
              "      <td>0.973537</td>\n",
              "      <td>0.365381</td>\n",
              "      <td>-0.682356</td>\n",
              "      <td>0.943466</td>\n",
              "      <td>-0.693524</td>\n",
              "      <td>-0.451395</td>\n",
              "      <td>...</td>\n",
              "      <td>-0.261895</td>\n",
              "      <td>-0.307596</td>\n",
              "      <td>0.119065</td>\n",
              "      <td>0.384212</td>\n",
              "      <td>-0.632086</td>\n",
              "      <td>0.203812</td>\n",
              "      <td>-0.417865</td>\n",
              "      <td>-0.306142</td>\n",
              "      <td>1.98</td>\n",
              "      <td>0.0</td>\n",
              "    </tr>\n",
              "  </tbody>\n",
              "</table>\n",
              "<p>5 rows × 31 columns</p>\n",
              "</div>\n",
              "      <button class=\"colab-df-convert\" onclick=\"convertToInteractive('df-6aabf8a6-0430-4b4c-b399-6d398f28e5af')\"\n",
              "              title=\"Convert this dataframe to an interactive table.\"\n",
              "              style=\"display:none;\">\n",
              "        \n",
              "  <svg xmlns=\"http://www.w3.org/2000/svg\" height=\"24px\"viewBox=\"0 0 24 24\"\n",
              "       width=\"24px\">\n",
              "    <path d=\"M0 0h24v24H0V0z\" fill=\"none\"/>\n",
              "    <path d=\"M18.56 5.44l.94 2.06.94-2.06 2.06-.94-2.06-.94-.94-2.06-.94 2.06-2.06.94zm-11 1L8.5 8.5l.94-2.06 2.06-.94-2.06-.94L8.5 2.5l-.94 2.06-2.06.94zm10 10l.94 2.06.94-2.06 2.06-.94-2.06-.94-.94-2.06-.94 2.06-2.06.94z\"/><path d=\"M17.41 7.96l-1.37-1.37c-.4-.4-.92-.59-1.43-.59-.52 0-1.04.2-1.43.59L10.3 9.45l-7.72 7.72c-.78.78-.78 2.05 0 2.83L4 21.41c.39.39.9.59 1.41.59.51 0 1.02-.2 1.41-.59l7.78-7.78 2.81-2.81c.8-.78.8-2.07 0-2.86zM5.41 20L4 18.59l7.72-7.72 1.47 1.35L5.41 20z\"/>\n",
              "  </svg>\n",
              "      </button>\n",
              "      \n",
              "  <style>\n",
              "    .colab-df-container {\n",
              "      display:flex;\n",
              "      flex-wrap:wrap;\n",
              "      gap: 12px;\n",
              "    }\n",
              "\n",
              "    .colab-df-convert {\n",
              "      background-color: #E8F0FE;\n",
              "      border: none;\n",
              "      border-radius: 50%;\n",
              "      cursor: pointer;\n",
              "      display: none;\n",
              "      fill: #1967D2;\n",
              "      height: 32px;\n",
              "      padding: 0 0 0 0;\n",
              "      width: 32px;\n",
              "    }\n",
              "\n",
              "    .colab-df-convert:hover {\n",
              "      background-color: #E2EBFA;\n",
              "      box-shadow: 0px 1px 2px rgba(60, 64, 67, 0.3), 0px 1px 3px 1px rgba(60, 64, 67, 0.15);\n",
              "      fill: #174EA6;\n",
              "    }\n",
              "\n",
              "    [theme=dark] .colab-df-convert {\n",
              "      background-color: #3B4455;\n",
              "      fill: #D2E3FC;\n",
              "    }\n",
              "\n",
              "    [theme=dark] .colab-df-convert:hover {\n",
              "      background-color: #434B5C;\n",
              "      box-shadow: 0px 1px 3px 1px rgba(0, 0, 0, 0.15);\n",
              "      filter: drop-shadow(0px 1px 2px rgba(0, 0, 0, 0.3));\n",
              "      fill: #FFFFFF;\n",
              "    }\n",
              "  </style>\n",
              "\n",
              "      <script>\n",
              "        const buttonEl =\n",
              "          document.querySelector('#df-6aabf8a6-0430-4b4c-b399-6d398f28e5af button.colab-df-convert');\n",
              "        buttonEl.style.display =\n",
              "          google.colab.kernel.accessAllowed ? 'block' : 'none';\n",
              "\n",
              "        async function convertToInteractive(key) {\n",
              "          const element = document.querySelector('#df-6aabf8a6-0430-4b4c-b399-6d398f28e5af');\n",
              "          const dataTable =\n",
              "            await google.colab.kernel.invokeFunction('convertToInteractive',\n",
              "                                                     [key], {});\n",
              "          if (!dataTable) return;\n",
              "\n",
              "          const docLinkHtml = 'Like what you see? Visit the ' +\n",
              "            '<a target=\"_blank\" href=https://colab.research.google.com/notebooks/data_table.ipynb>data table notebook</a>'\n",
              "            + ' to learn more about interactive tables.';\n",
              "          element.innerHTML = '';\n",
              "          dataTable['output_type'] = 'display_data';\n",
              "          await google.colab.output.renderOutput(dataTable, element);\n",
              "          const docLink = document.createElement('div');\n",
              "          docLink.innerHTML = docLinkHtml;\n",
              "          element.appendChild(docLink);\n",
              "        }\n",
              "      </script>\n",
              "    </div>\n",
              "  </div>\n",
              "  "
            ]
          },
          "metadata": {},
          "execution_count": 19
        }
      ],
      "source": [
        "cc_final.sample(5)"
      ]
    },
    {
      "cell_type": "code",
      "execution_count": 20,
      "id": "3b370f6c",
      "metadata": {
        "colab": {
          "base_uri": "https://localhost:8080/"
        },
        "id": "3b370f6c",
        "outputId": "460283c1-a082-4485-c318-4c00ad454db7"
      },
      "outputs": [
        {
          "output_type": "execute_result",
          "data": {
            "text/plain": [
              "0.0    492\n",
              "1.0    217\n",
              "Name: Class, dtype: int64"
            ]
          },
          "metadata": {},
          "execution_count": 20
        }
      ],
      "source": [
        "#Checking if the data is evenly distributed or not\n",
        "dis = cc_final['Class'].value_counts()\n",
        "dis"
      ]
    },
    {
      "cell_type": "code",
      "execution_count": 21,
      "id": "56ff0897",
      "metadata": {
        "colab": {
          "base_uri": "https://localhost:8080/",
          "height": 271
        },
        "id": "56ff0897",
        "outputId": "431875a1-346b-482f-9fad-80bdd205ef5a"
      },
      "outputs": [
        {
          "output_type": "display_data",
          "data": {
            "text/plain": [
              "<Figure size 432x288 with 1 Axes>"
            ],
            "image/png": "[encoded data removed]"
          },
          "metadata": {
            "needs_background": "light"
          }
        }
      ],
      "source": [
        "dis.plot(kind = 'bar')\n",
        "plt.show()"
      ]
    },
    {
      "cell_type": "code",
      "execution_count": 22,
      "id": "7939c471",
      "metadata": {
        "colab": {
          "base_uri": "https://localhost:8080/",
          "height": 237
        },
        "id": "7939c471",
        "outputId": "31dc187a-cf80-44d1-a4be-953b3ed61dcb"
      },
      "outputs": [
        {
          "output_type": "execute_result",
          "data": {
            "text/plain": [
              "               Time        V1        V2        V3        V4        V5  \\\n",
              "Class                                                                   \n",
              "0.0    40973.325203 -0.193381 -0.283562  0.725251  0.189769 -0.236823   \n",
              "1.0    35870.354839 -6.166180  4.217965 -8.087819  4.996030 -4.444345   \n",
              "\n",
              "             V6        V7        V8        V9  ...       V20       V21  \\\n",
              "Class                                          ...                       \n",
              "0.0    0.128158 -0.077853  0.040845 -0.009196  ...  0.129784  0.025825   \n",
              "1.0   -1.845983 -6.417590  2.796291 -2.953535  ...  0.354728  0.731128   \n",
              "\n",
              "            V22       V23       V24       V25       V26       V27       V28  \\\n",
              "Class                                                                         \n",
              "0.0   -0.125945 -0.009711 -0.028830  0.154994  0.007719 -0.025464 -0.027287   \n",
              "1.0   -0.127758 -0.247689 -0.102596  0.206960  0.097699  0.532822  0.035472   \n",
              "\n",
              "           Amount  \n",
              "Class              \n",
              "0.0    115.916260  \n",
              "1.0    109.784286  \n",
              "\n",
              "[2 rows x 30 columns]"
            ],
            "text/html": [
              "\n",
              "  <div id=\"df-74c707de-5de7-4886-8c5a-2ac853fac404\">\n",
              "    <div class=\"colab-df-container\">\n",
              "      <div>\n",
              "<style scoped>\n",
              "    .dataframe tbody tr th:only-of-type {\n",
              "        vertical-align: middle;\n",
              "    }\n",
              "\n",
              "    .dataframe tbody tr th {\n",
              "        vertical-align: top;\n",
              "    }\n",
              "\n",
              "    .dataframe thead th {\n",
              "        text-align: right;\n",
              "    }\n",
              "</style>\n",
              "<table border=\"1\" class=\"dataframe\">\n",
              "  <thead>\n",
              "    <tr style=\"text-align: right;\">\n",
              "      <th></th>\n",
              "      <th>Time</th>\n",
              "      <th>V1</th>\n",
              "      <th>V2</th>\n",
              "      <th>V3</th>\n",
              "      <th>V4</th>\n",
              "      <th>V5</th>\n",
              "      <th>V6</th>\n",
              "      <th>V7</th>\n",
              "      <th>V8</th>\n",
              "      <th>V9</th>\n",
              "      <th>...</th>\n",
              "      <th>V20</th>\n",
              "      <th>V21</th>\n",
              "      <th>V22</th>\n",
              "      <th>V23</th>\n",
              "      <th>V24</th>\n",
              "      <th>V25</th>\n",
              "      <th>V26</th>\n",
              "      <th>V27</th>\n",
              "      <th>V28</th>\n",
              "      <th>Amount</th>\n",
              "    </tr>\n",
              "    <tr>\n",
              "      <th>Class</th>\n",
              "      <th></th>\n",
              "      <th></th>\n",
              "      <th></th>\n",
              "      <th></th>\n",
              "      <th></th>\n",
              "      <th></th>\n",
              "      <th></th>\n",
              "      <th></th>\n",
              "      <th></th>\n",
              "      <th></th>\n",
              "      <th></th>\n",
              "      <th></th>\n",
              "      <th></th>\n",
              "      <th></th>\n",
              "      <th></th>\n",
              "      <th></th>\n",
              "      <th></th>\n",
              "      <th></th>\n",
              "      <th></th>\n",
              "      <th></th>\n",
              "      <th></th>\n",
              "    </tr>\n",
              "  </thead>\n",
              "  <tbody>\n",
              "    <tr>\n",
              "      <th>0.0</th>\n",
              "      <td>40973.325203</td>\n",
              "      <td>-0.193381</td>\n",
              "      <td>-0.283562</td>\n",
              "      <td>0.725251</td>\n",
              "      <td>0.189769</td>\n",
              "      <td>-0.236823</td>\n",
              "      <td>0.128158</td>\n",
              "      <td>-0.077853</td>\n",
              "      <td>0.040845</td>\n",
              "      <td>-0.009196</td>\n",
              "      <td>...</td>\n",
              "      <td>0.129784</td>\n",
              "      <td>0.025825</td>\n",
              "      <td>-0.125945</td>\n",
              "      <td>-0.009711</td>\n",
              "      <td>-0.028830</td>\n",
              "      <td>0.154994</td>\n",
              "      <td>0.007719</td>\n",
              "      <td>-0.025464</td>\n",
              "      <td>-0.027287</td>\n",
              "      <td>115.916260</td>\n",
              "    </tr>\n",
              "    <tr>\n",
              "      <th>1.0</th>\n",
              "      <td>35870.354839</td>\n",
              "      <td>-6.166180</td>\n",
              "      <td>4.217965</td>\n",
              "      <td>-8.087819</td>\n",
              "      <td>4.996030</td>\n",
              "      <td>-4.444345</td>\n",
              "      <td>-1.845983</td>\n",
              "      <td>-6.417590</td>\n",
              "      <td>2.796291</td>\n",
              "      <td>-2.953535</td>\n",
              "      <td>...</td>\n",
              "      <td>0.354728</td>\n",
              "      <td>0.731128</td>\n",
              "      <td>-0.127758</td>\n",
              "      <td>-0.247689</td>\n",
              "      <td>-0.102596</td>\n",
              "      <td>0.206960</td>\n",
              "      <td>0.097699</td>\n",
              "      <td>0.532822</td>\n",
              "      <td>0.035472</td>\n",
              "      <td>109.784286</td>\n",
              "    </tr>\n",
              "  </tbody>\n",
              "</table>\n",
              "<p>2 rows × 30 columns</p>\n",
              "</div>\n",
              "      <button class=\"colab-df-convert\" onclick=\"convertToInteractive('df-74c707de-5de7-4886-8c5a-2ac853fac404')\"\n",
              "              title=\"Convert this dataframe to an interactive table.\"\n",
              "              style=\"display:none;\">\n",
              "        \n",
              "  <svg xmlns=\"http://www.w3.org/2000/svg\" height=\"24px\"viewBox=\"0 0 24 24\"\n",
              "       width=\"24px\">\n",
              "    <path d=\"M0 0h24v24H0V0z\" fill=\"none\"/>\n",
              "    <path d=\"M18.56 5.44l.94 2.06.94-2.06 2.06-.94-2.06-.94-.94-2.06-.94 2.06-2.06.94zm-11 1L8.5 8.5l.94-2.06 2.06-.94-2.06-.94L8.5 2.5l-.94 2.06-2.06.94zm10 10l.94 2.06.94-2.06 2.06-.94-2.06-.94-.94-2.06-.94 2.06-2.06.94z\"/><path d=\"M17.41 7.96l-1.37-1.37c-.4-.4-.92-.59-1.43-.59-.52 0-1.04.2-1.43.59L10.3 9.45l-7.72 7.72c-.78.78-.78 2.05 0 2.83L4 21.41c.39.39.9.59 1.41.59.51 0 1.02-.2 1.41-.59l7.78-7.78 2.81-2.81c.8-.78.8-2.07 0-2.86zM5.41 20L4 18.59l7.72-7.72 1.47 1.35L5.41 20z\"/>\n",
              "  </svg>\n",
              "      </button>\n",
              "      \n",
              "  <style>\n",
              "    .colab-df-container {\n",
              "      display:flex;\n",
              "      flex-wrap:wrap;\n",
              "      gap: 12px;\n",
              "    }\n",
              "\n",
              "    .colab-df-convert {\n",
              "      background-color: #E8F0FE;\n",
              "      border: none;\n",
              "      border-radius: 50%;\n",
              "      cursor: pointer;\n",
              "      display: none;\n",
              "      fill: #1967D2;\n",
              "      height: 32px;\n",
              "      padding: 0 0 0 0;\n",
              "      width: 32px;\n",
              "    }\n",
              "\n",
              "    .colab-df-convert:hover {\n",
              "      background-color: #E2EBFA;\n",
              "      box-shadow: 0px 1px 2px rgba(60, 64, 67, 0.3), 0px 1px 3px 1px rgba(60, 64, 67, 0.15);\n",
              "      fill: #174EA6;\n",
              "    }\n",
              "\n",
              "    [theme=dark] .colab-df-convert {\n",
              "      background-color: #3B4455;\n",
              "      fill: #D2E3FC;\n",
              "    }\n",
              "\n",
              "    [theme=dark] .colab-df-convert:hover {\n",
              "      background-color: #434B5C;\n",
              "      box-shadow: 0px 1px 3px 1px rgba(0, 0, 0, 0.15);\n",
              "      filter: drop-shadow(0px 1px 2px rgba(0, 0, 0, 0.3));\n",
              "      fill: #FFFFFF;\n",
              "    }\n",
              "  </style>\n",
              "\n",
              "      <script>\n",
              "        const buttonEl =\n",
              "          document.querySelector('#df-74c707de-5de7-4886-8c5a-2ac853fac404 button.colab-df-convert');\n",
              "        buttonEl.style.display =\n",
              "          google.colab.kernel.accessAllowed ? 'block' : 'none';\n",
              "\n",
              "        async function convertToInteractive(key) {\n",
              "          const element = document.querySelector('#df-74c707de-5de7-4886-8c5a-2ac853fac404');\n",
              "          const dataTable =\n",
              "            await google.colab.kernel.invokeFunction('convertToInteractive',\n",
              "                                                     [key], {});\n",
              "          if (!dataTable) return;\n",
              "\n",
              "          const docLinkHtml = 'Like what you see? Visit the ' +\n",
              "            '<a target=\"_blank\" href=https://colab.research.google.com/notebooks/data_table.ipynb>data table notebook</a>'\n",
              "            + ' to learn more about interactive tables.';\n",
              "          element.innerHTML = '';\n",
              "          dataTable['output_type'] = 'display_data';\n",
              "          await google.colab.output.renderOutput(dataTable, element);\n",
              "          const docLink = document.createElement('div');\n",
              "          docLink.innerHTML = docLinkHtml;\n",
              "          element.appendChild(docLink);\n",
              "        }\n",
              "      </script>\n",
              "    </div>\n",
              "  </div>\n",
              "  "
            ]
          },
          "metadata": {},
          "execution_count": 22
        }
      ],
      "source": [
        "cc_final.groupby('Class').mean()"
      ]
    },
    {
      "cell_type": "code",
      "execution_count": 23,
      "id": "d0094de3",
      "metadata": {
        "id": "d0094de3"
      },
      "outputs": [],
      "source": [
        "from sklearn.linear_model import LogisticRegression\n",
        "from sklearn.model_selection import train_test_split"
      ]
    },
    {
      "cell_type": "code",
      "execution_count": 24,
      "id": "130e40a9",
      "metadata": {
        "id": "130e40a9"
      },
      "outputs": [],
      "source": [
        "x = cc_final.drop(['Class'], axis = 1)\n",
        "y = cc_final['Class']"
      ]
    },
    {
      "cell_type": "code",
      "execution_count": 25,
      "id": "34cc1fdd",
      "metadata": {
        "colab": {
          "base_uri": "https://localhost:8080/",
          "height": 299
        },
        "id": "34cc1fdd",
        "outputId": "dc8c62e7-a2a6-4527-a9a0-ee21036bd606"
      },
      "outputs": [
        {
          "output_type": "execute_result",
          "data": {
            "text/plain": [
              "        Time        V1        V2        V3        V4        V5        V6  \\\n",
              "5185    4942  1.054885 -0.558337 -0.522328 -0.357718 -0.268561 -0.600676   \n",
              "85534  60812  1.052610 -0.161350  0.190391  1.259294 -0.172069  0.297286   \n",
              "16213  27619  1.226343  0.030322  0.310517  0.469478 -0.401994 -0.490995   \n",
              "25525  33651 -0.690229  0.760045  1.406236  0.096655 -0.161155  0.087299   \n",
              "39852  39993  1.191304  0.253729  0.396967  0.727915 -0.421416 -0.810651   \n",
              "\n",
              "             V7        V8        V9  ...       V20       V21       V22  \\\n",
              "5185  -0.057186 -0.271195 -0.228717  ...  0.387420  0.216115  0.506129   \n",
              "85534 -0.129089  0.266126  0.382070  ... -0.214113 -0.068596 -0.209817   \n",
              "16213 -0.158121  0.033549  0.061860  ... -0.145500 -0.046784 -0.213162   \n",
              "25525  0.274078  0.330343  0.275871  ...  0.103423  0.042907  0.509002   \n",
              "39852 -0.045113 -0.035737  0.140113  ... -0.181392 -0.249262 -0.727338   \n",
              "\n",
              "            V23       V24       V25       V26       V27       V28  Amount  \n",
              "5185  -0.320170 -0.048315  0.653081 -0.083717 -0.052907  0.031500  169.00  \n",
              "85534 -0.129953 -0.345397  0.585089 -0.307521  0.012335  0.005977   55.38  \n",
              "16213 -0.039847 -0.004869  0.366468  0.312590 -0.044399 -0.000307   10.15  \n",
              "25525 -0.011514  0.250509 -0.595134  0.284278  0.517935  0.295442   12.31  \n",
              "39852  0.210485  0.335855  0.070315  0.106978 -0.011759  0.028662    0.89  \n",
              "\n",
              "[5 rows x 30 columns]"
            ],
            "text/html": [
              "\n",
              "  <div id=\"df-1a8c9145-d7e9-4177-a1c3-78827ebd9c56\">\n",
              "    <div class=\"colab-df-container\">\n",
              "      <div>\n",
              "<style scoped>\n",
              "    .dataframe tbody tr th:only-of-type {\n",
              "        vertical-align: middle;\n",
              "    }\n",
              "\n",
              "    .dataframe tbody tr th {\n",
              "        vertical-align: top;\n",
              "    }\n",
              "\n",
              "    .dataframe thead th {\n",
              "        text-align: right;\n",
              "    }\n",
              "</style>\n",
              "<table border=\"1\" class=\"dataframe\">\n",
              "  <thead>\n",
              "    <tr style=\"text-align: right;\">\n",
              "      <th></th>\n",
              "      <th>Time</th>\n",
              "      <th>V1</th>\n",
              "      <th>V2</th>\n",
              "      <th>V3</th>\n",
              "      <th>V4</th>\n",
              "      <th>V5</th>\n",
              "      <th>V6</th>\n",
              "      <th>V7</th>\n",
              "      <th>V8</th>\n",
              "      <th>V9</th>\n",
              "      <th>...</th>\n",
              "      <th>V20</th>\n",
              "      <th>V21</th>\n",
              "      <th>V22</th>\n",
              "      <th>V23</th>\n",
              "      <th>V24</th>\n",
              "      <th>V25</th>\n",
              "      <th>V26</th>\n",
              "      <th>V27</th>\n",
              "      <th>V28</th>\n",
              "      <th>Amount</th>\n",
              "    </tr>\n",
              "  </thead>\n",
              "  <tbody>\n",
              "    <tr>\n",
              "      <th>5185</th>\n",
              "      <td>4942</td>\n",
              "      <td>1.054885</td>\n",
              "      <td>-0.558337</td>\n",
              "      <td>-0.522328</td>\n",
              "      <td>-0.357718</td>\n",
              "      <td>-0.268561</td>\n",
              "      <td>-0.600676</td>\n",
              "      <td>-0.057186</td>\n",
              "      <td>-0.271195</td>\n",
              "      <td>-0.228717</td>\n",
              "      <td>...</td>\n",
              "      <td>0.387420</td>\n",
              "      <td>0.216115</td>\n",
              "      <td>0.506129</td>\n",
              "      <td>-0.320170</td>\n",
              "      <td>-0.048315</td>\n",
              "      <td>0.653081</td>\n",
              "      <td>-0.083717</td>\n",
              "      <td>-0.052907</td>\n",
              "      <td>0.031500</td>\n",
              "      <td>169.00</td>\n",
              "    </tr>\n",
              "    <tr>\n",
              "      <th>85534</th>\n",
              "      <td>60812</td>\n",
              "      <td>1.052610</td>\n",
              "      <td>-0.161350</td>\n",
              "      <td>0.190391</td>\n",
              "      <td>1.259294</td>\n",
              "      <td>-0.172069</td>\n",
              "      <td>0.297286</td>\n",
              "      <td>-0.129089</td>\n",
              "      <td>0.266126</td>\n",
              "      <td>0.382070</td>\n",
              "      <td>...</td>\n",
              "      <td>-0.214113</td>\n",
              "      <td>-0.068596</td>\n",
              "      <td>-0.209817</td>\n",
              "      <td>-0.129953</td>\n",
              "      <td>-0.345397</td>\n",
              "      <td>0.585089</td>\n",
              "      <td>-0.307521</td>\n",
              "      <td>0.012335</td>\n",
              "      <td>0.005977</td>\n",
              "      <td>55.38</td>\n",
              "    </tr>\n",
              "    <tr>\n",
              "      <th>16213</th>\n",
              "      <td>27619</td>\n",
              "      <td>1.226343</td>\n",
              "      <td>0.030322</td>\n",
              "      <td>0.310517</td>\n",
              "      <td>0.469478</td>\n",
              "      <td>-0.401994</td>\n",
              "      <td>-0.490995</td>\n",
              "      <td>-0.158121</td>\n",
              "      <td>0.033549</td>\n",
              "      <td>0.061860</td>\n",
              "      <td>...</td>\n",
              "      <td>-0.145500</td>\n",
              "      <td>-0.046784</td>\n",
              "      <td>-0.213162</td>\n",
              "      <td>-0.039847</td>\n",
              "      <td>-0.004869</td>\n",
              "      <td>0.366468</td>\n",
              "      <td>0.312590</td>\n",
              "      <td>-0.044399</td>\n",
              "      <td>-0.000307</td>\n",
              "      <td>10.15</td>\n",
              "    </tr>\n",
              "    <tr>\n",
              "      <th>25525</th>\n",
              "      <td>33651</td>\n",
              "      <td>-0.690229</td>\n",
              "      <td>0.760045</td>\n",
              "      <td>1.406236</td>\n",
              "      <td>0.096655</td>\n",
              "      <td>-0.161155</td>\n",
              "      <td>0.087299</td>\n",
              "      <td>0.274078</td>\n",
              "      <td>0.330343</td>\n",
              "      <td>0.275871</td>\n",
              "      <td>...</td>\n",
              "      <td>0.103423</td>\n",
              "      <td>0.042907</td>\n",
              "      <td>0.509002</td>\n",
              "      <td>-0.011514</td>\n",
              "      <td>0.250509</td>\n",
              "      <td>-0.595134</td>\n",
              "      <td>0.284278</td>\n",
              "      <td>0.517935</td>\n",
              "      <td>0.295442</td>\n",
              "      <td>12.31</td>\n",
              "    </tr>\n",
              "    <tr>\n",
              "      <th>39852</th>\n",
              "      <td>39993</td>\n",
              "      <td>1.191304</td>\n",
              "      <td>0.253729</td>\n",
              "      <td>0.396967</td>\n",
              "      <td>0.727915</td>\n",
              "      <td>-0.421416</td>\n",
              "      <td>-0.810651</td>\n",
              "      <td>-0.045113</td>\n",
              "      <td>-0.035737</td>\n",
              "      <td>0.140113</td>\n",
              "      <td>...</td>\n",
              "      <td>-0.181392</td>\n",
              "      <td>-0.249262</td>\n",
              "      <td>-0.727338</td>\n",
              "      <td>0.210485</td>\n",
              "      <td>0.335855</td>\n",
              "      <td>0.070315</td>\n",
              "      <td>0.106978</td>\n",
              "      <td>-0.011759</td>\n",
              "      <td>0.028662</td>\n",
              "      <td>0.89</td>\n",
              "    </tr>\n",
              "  </tbody>\n",
              "</table>\n",
              "<p>5 rows × 30 columns</p>\n",
              "</div>\n",
              "      <button class=\"colab-df-convert\" onclick=\"convertToInteractive('df-1a8c9145-d7e9-4177-a1c3-78827ebd9c56')\"\n",
              "              title=\"Convert this dataframe to an interactive table.\"\n",
              "              style=\"display:none;\">\n",
              "        \n",
              "  <svg xmlns=\"http://www.w3.org/2000/svg\" height=\"24px\"viewBox=\"0 0 24 24\"\n",
              "       width=\"24px\">\n",
              "    <path d=\"M0 0h24v24H0V0z\" fill=\"none\"/>\n",
              "    <path d=\"M18.56 5.44l.94 2.06.94-2.06 2.06-.94-2.06-.94-.94-2.06-.94 2.06-2.06.94zm-11 1L8.5 8.5l.94-2.06 2.06-.94-2.06-.94L8.5 2.5l-.94 2.06-2.06.94zm10 10l.94 2.06.94-2.06 2.06-.94-2.06-.94-.94-2.06-.94 2.06-2.06.94z\"/><path d=\"M17.41 7.96l-1.37-1.37c-.4-.4-.92-.59-1.43-.59-.52 0-1.04.2-1.43.59L10.3 9.45l-7.72 7.72c-.78.78-.78 2.05 0 2.83L4 21.41c.39.39.9.59 1.41.59.51 0 1.02-.2 1.41-.59l7.78-7.78 2.81-2.81c.8-.78.8-2.07 0-2.86zM5.41 20L4 18.59l7.72-7.72 1.47 1.35L5.41 20z\"/>\n",
              "  </svg>\n",
              "      </button>\n",
              "      \n",
              "  <style>\n",
              "    .colab-df-container {\n",
              "      display:flex;\n",
              "      flex-wrap:wrap;\n",
              "      gap: 12px;\n",
              "    }\n",
              "\n",
              "    .colab-df-convert {\n",
              "      background-color: #E8F0FE;\n",
              "      border: none;\n",
              "      border-radius: 50%;\n",
              "      cursor: pointer;\n",
              "      display: none;\n",
              "      fill: #1967D2;\n",
              "      height: 32px;\n",
              "      padding: 0 0 0 0;\n",
              "      width: 32px;\n",
              "    }\n",
              "\n",
              "    .colab-df-convert:hover {\n",
              "      background-color: #E2EBFA;\n",
              "      box-shadow: 0px 1px 2px rgba(60, 64, 67, 0.3), 0px 1px 3px 1px rgba(60, 64, 67, 0.15);\n",
              "      fill: #174EA6;\n",
              "    }\n",
              "\n",
              "    [theme=dark] .colab-df-convert {\n",
              "      background-color: #3B4455;\n",
              "      fill: #D2E3FC;\n",
              "    }\n",
              "\n",
              "    [theme=dark] .colab-df-convert:hover {\n",
              "      background-color: #434B5C;\n",
              "      box-shadow: 0px 1px 3px 1px rgba(0, 0, 0, 0.15);\n",
              "      filter: drop-shadow(0px 1px 2px rgba(0, 0, 0, 0.3));\n",
              "      fill: #FFFFFF;\n",
              "    }\n",
              "  </style>\n",
              "\n",
              "      <script>\n",
              "        const buttonEl =\n",
              "          document.querySelector('#df-1a8c9145-d7e9-4177-a1c3-78827ebd9c56 button.colab-df-convert');\n",
              "        buttonEl.style.display =\n",
              "          google.colab.kernel.accessAllowed ? 'block' : 'none';\n",
              "\n",
              "        async function convertToInteractive(key) {\n",
              "          const element = document.querySelector('#df-1a8c9145-d7e9-4177-a1c3-78827ebd9c56');\n",
              "          const dataTable =\n",
              "            await google.colab.kernel.invokeFunction('convertToInteractive',\n",
              "                                                     [key], {});\n",
              "          if (!dataTable) return;\n",
              "\n",
              "          const docLinkHtml = 'Like what you see? Visit the ' +\n",
              "            '<a target=\"_blank\" href=https://colab.research.google.com/notebooks/data_table.ipynb>data table notebook</a>'\n",
              "            + ' to learn more about interactive tables.';\n",
              "          element.innerHTML = '';\n",
              "          dataTable['output_type'] = 'display_data';\n",
              "          await google.colab.output.renderOutput(dataTable, element);\n",
              "          const docLink = document.createElement('div');\n",
              "          docLink.innerHTML = docLinkHtml;\n",
              "          element.appendChild(docLink);\n",
              "        }\n",
              "      </script>\n",
              "    </div>\n",
              "  </div>\n",
              "  "
            ]
          },
          "metadata": {},
          "execution_count": 25
        }
      ],
      "source": [
        "x.head()"
      ]
    },
    {
      "cell_type": "code",
      "execution_count": 26,
      "id": "9d70bedd",
      "metadata": {
        "colab": {
          "base_uri": "https://localhost:8080/"
        },
        "id": "9d70bedd",
        "outputId": "f07c643a-4b53-474b-dbeb-668cb727aece"
      },
      "outputs": [
        {
          "output_type": "execute_result",
          "data": {
            "text/plain": [
              "5185     0.0\n",
              "85534    0.0\n",
              "16213    0.0\n",
              "25525    0.0\n",
              "39852    0.0\n",
              "Name: Class, dtype: float64"
            ]
          },
          "metadata": {},
          "execution_count": 26
        }
      ],
      "source": [
        "y.head()"
      ]
    },
    {
      "cell_type": "code",
      "execution_count": 27,
      "id": "f298fd84",
      "metadata": {
        "id": "f298fd84"
      },
      "outputs": [],
      "source": [
        "X_train, X_test, y_train, y_test = train_test_split (x, y, test_size=0.3, random_state=0)"
      ]
    },
    {
      "cell_type": "code",
      "execution_count": 28,
      "id": "ca37c48d",
      "metadata": {
        "id": "ca37c48d"
      },
      "outputs": [],
      "source": [
        "lg = LogisticRegression()"
      ]
    },
    {
      "cell_type": "code",
      "execution_count": 29,
      "id": "71f29706",
      "metadata": {
        "colab": {
          "base_uri": "https://localhost:8080/"
        },
        "id": "71f29706",
        "outputId": "e3cdc405-33c0-47c4-ac81-9839ccda5048"
      },
      "outputs": [
        {
          "output_type": "execute_result",
          "data": {
            "text/plain": [
              "LogisticRegression()"
            ]
          },
          "metadata": {},
          "execution_count": 29
        }
      ],
      "source": [
        "lg.fit(X_train, y_train)"
      ]
    },
    {
      "cell_type": "code",
      "execution_count": 30,
      "id": "289e4bab",
      "metadata": {
        "colab": {
          "base_uri": "https://localhost:8080/"
        },
        "id": "289e4bab",
        "outputId": "b84c8bba-6bd4-452d-fc45-e4db07521b1e"
      },
      "outputs": [
        {
          "output_type": "execute_result",
          "data": {
            "text/plain": [
              "((496, 30), (213, 30), (496,), (213,))"
            ]
          },
          "metadata": {},
          "execution_count": 30
        }
      ],
      "source": [
        "X_train.shape, X_test.shape, y_train.shape, y_test.shape"
      ]
    },
    {
      "cell_type": "code",
      "execution_count": 31,
      "id": "11b82da3",
      "metadata": {
        "id": "11b82da3"
      },
      "outputs": [],
      "source": [
        "y_train = y_train.values.reshape(-1,1)\n",
        "y_test = y_test.values.reshape(-1,1)"
      ]
    },
    {
      "cell_type": "code",
      "execution_count": 32,
      "id": "e10f4678",
      "metadata": {
        "colab": {
          "base_uri": "https://localhost:8080/"
        },
        "id": "e10f4678",
        "outputId": "1367eaff-a0bb-4908-9eea-0dd2cc50286f"
      },
      "outputs": [
        {
          "output_type": "execute_result",
          "data": {
            "text/plain": [
              "((496, 1), (213, 1))"
            ]
          },
          "metadata": {},
          "execution_count": 32
        }
      ],
      "source": [
        "y_train.shape, y_test.shape"
      ]
    },
    {
      "cell_type": "code",
      "execution_count": 33,
      "id": "c012cc0b",
      "metadata": {
        "colab": {
          "base_uri": "https://localhost:8080/"
        },
        "id": "c012cc0b",
        "outputId": "b8cebdb9-ba78-4384-a301-ea2803925642"
      },
      "outputs": [
        {
          "output_type": "execute_result",
          "data": {
            "text/plain": [
              "0.9577464788732394"
            ]
          },
          "metadata": {},
          "execution_count": 33
        }
      ],
      "source": [
        "lg.score(X_test, y_test)"
      ]
    },
    {
      "cell_type": "code",
      "execution_count": 34,
      "id": "397cf82b",
      "metadata": {
        "colab": {
          "base_uri": "https://localhost:8080/"
        },
        "id": "397cf82b",
        "outputId": "d909910a-5cdd-4310-c768-6b0a9d0d4696"
      },
      "outputs": [
        {
          "output_type": "execute_result",
          "data": {
            "text/plain": [
              "array([1., 0., 0., 0., 0., 0., 0., 0., 0., 1., 0., 0., 1., 1., 0., 0., 0.,\n",
              "       0., 0., 0., 0., 0., 0., 0., 0., 0., 0., 0., 0., 0., 0., 1., 0., 0.,\n",
              "       0., 0., 0., 0., 0., 1., 0., 1., 0., 0., 0., 0., 0., 0., 0., 0., 0.,\n",
              "       0., 0., 0., 0., 1., 1., 0., 0., 1., 0., 0., 0., 0., 0., 0., 0., 0.,\n",
              "       1., 0., 0., 0., 1., 0., 0., 0., 0., 0., 1., 0., 0., 0., 0., 0., 0.,\n",
              "       1., 1., 1., 0., 0., 0., 1., 0., 0., 0., 0., 0., 1., 0., 1., 1., 1.,\n",
              "       1., 1., 1., 0., 1., 1., 1., 0., 0., 1., 0., 0., 1., 0., 0., 0., 0.,\n",
              "       0., 1., 0., 1., 0., 1., 0., 0., 0., 0., 0., 0., 0., 0., 0., 1., 1.,\n",
              "       0., 0., 1., 1., 0., 0., 0., 0., 0., 0., 0., 1., 1., 0., 0., 0., 0.,\n",
              "       0., 1., 1., 0., 0., 0., 1., 0., 0., 0., 0., 0., 0., 0., 1., 1., 0.,\n",
              "       0., 0., 0., 0., 0., 1., 0., 0., 0., 1., 0., 0., 0., 0., 0., 1., 0.,\n",
              "       1., 1., 0., 1., 0., 0., 1., 0., 0., 0., 1., 0., 1., 0., 0., 0., 1.,\n",
              "       0., 0., 0., 0., 1., 0., 0., 1., 0., 1., 1., 1., 0., 1., 0., 0., 0.,\n",
              "       1., 1., 0., 0., 0., 0., 1., 1., 0., 0., 0., 0., 0., 1., 0., 1., 0.,\n",
              "       0., 0., 1., 0., 1., 1., 1., 0., 0., 1., 0., 1., 0., 0., 0., 0., 0.,\n",
              "       1., 0., 1., 1., 0., 1., 0., 0., 1., 1., 1., 0., 0., 0., 0., 0., 1.,\n",
              "       0., 0., 0., 0., 0., 0., 1., 1., 1., 1., 0., 1., 0., 0., 0., 0., 1.,\n",
              "       1., 1., 1., 0., 0., 0., 1., 0., 0., 0., 1., 0., 1., 1., 0., 0., 0.,\n",
              "       0., 0., 0., 1., 0., 0., 0., 0., 0., 0., 1., 1., 1., 0., 1., 0., 0.,\n",
              "       0., 1., 0., 0., 0., 0., 0., 0., 0., 0., 0., 0., 0., 0., 0., 0., 1.,\n",
              "       1., 1., 0., 0., 0., 0., 1., 0., 0., 0., 0., 0., 0., 0., 0., 1., 0.,\n",
              "       0., 0., 0., 1., 0., 0., 0., 0., 0., 0., 0., 0., 0., 1., 0., 0., 0.,\n",
              "       0., 0., 0., 1., 1., 0., 1., 0., 0., 0., 0., 0., 0., 0., 0., 0., 0.,\n",
              "       0., 1., 0., 0., 1., 1., 1., 0., 0., 0., 0., 1., 1., 0., 1., 0., 0.,\n",
              "       0., 1., 1., 0., 0., 0., 1., 0., 0., 1., 0., 0., 0., 1., 0., 0., 0.,\n",
              "       0., 0., 1., 0., 0., 0., 0., 1., 1., 1., 0., 0., 0., 0., 0., 0., 0.,\n",
              "       0., 0., 1., 0., 0., 1., 0., 0., 0., 0., 1., 0., 1., 0., 0., 0., 0.,\n",
              "       1., 0., 0., 1., 1., 1., 0., 0., 0., 1., 1., 0., 0., 0., 0., 0., 0.,\n",
              "       1., 1., 1., 0., 0., 1., 0., 0., 1., 1., 0., 0., 1., 0., 0., 0., 0.,\n",
              "       1., 1., 1.])"
            ]
          },
          "metadata": {},
          "execution_count": 34
        }
      ],
      "source": [
        "y_train_pred = lg.predict(X_train)\n",
        "y_train_pred"
      ]
    },
    {
      "cell_type": "code",
      "execution_count": 35,
      "id": "43f3b7b8",
      "metadata": {
        "colab": {
          "base_uri": "https://localhost:8080/"
        },
        "id": "43f3b7b8",
        "outputId": "a439214f-04c0-49cb-9652-c1bf595c4560"
      },
      "outputs": [
        {
          "output_type": "execute_result",
          "data": {
            "text/plain": [
              "array([1., 0., 0., 0., 1., 1., 0., 1., 0., 1., 0., 0., 0., 1., 0., 0., 1.,\n",
              "       1., 0., 0., 0., 0., 0., 0., 1., 0., 0., 0., 0., 0., 0., 1., 1., 1.,\n",
              "       0., 0., 0., 0., 0., 1., 0., 0., 1., 0., 0., 1., 1., 1., 1., 0., 0.,\n",
              "       0., 0., 1., 0., 0., 1., 0., 0., 0., 1., 1., 0., 0., 1., 0., 1., 0.,\n",
              "       0., 0., 0., 0., 0., 0., 1., 0., 0., 0., 1., 0., 1., 1., 1., 0., 0.,\n",
              "       0., 0., 0., 1., 0., 0., 0., 1., 1., 1., 1., 0., 1., 0., 0., 0., 1.,\n",
              "       0., 1., 0., 0., 0., 1., 0., 0., 0., 0., 0., 0., 0., 0., 0., 0., 1.,\n",
              "       0., 1., 0., 0., 0., 0., 0., 0., 0., 0., 1., 0., 0., 0., 0., 0., 0.,\n",
              "       0., 0., 0., 1., 0., 0., 0., 0., 1., 0., 0., 0., 1., 1., 0., 0., 1.,\n",
              "       0., 0., 0., 0., 0., 0., 0., 0., 1., 0., 0., 0., 0., 0., 1., 0., 0.,\n",
              "       0., 1., 0., 0., 0., 1., 0., 0., 0., 0., 0., 0., 0., 0., 1., 1., 0.,\n",
              "       1., 0., 0., 0., 0., 0., 0., 1., 1., 1., 0., 1., 0., 0., 0., 1., 0.,\n",
              "       0., 1., 0., 0., 1., 0., 0., 0., 0.])"
            ]
          },
          "metadata": {},
          "execution_count": 35
        }
      ],
      "source": [
        "y_test_pred = lg.predict(X_test)\n",
        "y_test_pred"
      ]
    },
    {
      "cell_type": "code",
      "execution_count": 36,
      "id": "2b919d5b",
      "metadata": {
        "id": "2b919d5b"
      },
      "outputs": [],
      "source": [
        "from sklearn.metrics import mean_absolute_error, mean_squared_error,r2_score"
      ]
    },
    {
      "cell_type": "code",
      "execution_count": 37,
      "id": "2dc0b112",
      "metadata": {
        "colab": {
          "base_uri": "https://localhost:8080/"
        },
        "id": "2dc0b112",
        "outputId": "703608e4-de98-4505-ffa2-36bb3ea6b5cc"
      },
      "outputs": [
        {
          "output_type": "stream",
          "name": "stdout",
          "text": [
            "R2Score :  0.8007276507276508\n",
            "mean_absolute_error :  0.04225352112676056\n",
            "mean_squared_error :  0.04225352112676056\n",
            "Root mean_squared_error :  0.2055566129482595\n"
          ]
        }
      ],
      "source": [
        "print(\"R2Score : \" ,r2_score(y_test, y_test_pred)) \n",
        "print(\"mean_absolute_error : \",mean_absolute_error(y_test, y_test_pred))\n",
        "print(\"mean_squared_error : \" ,mean_squared_error(y_test, y_test_pred)) \n",
        "print(\"Root mean_squared_error : \",np.sqrt(mean_squared_error(y_test, y_test_pred)))"
      ]
    },
    {
      "cell_type": "code",
      "execution_count": 38,
      "id": "7443a4ff",
      "metadata": {
        "id": "7443a4ff"
      },
      "outputs": [],
      "source": [
        "from sklearn.preprocessing import StandardScaler\n",
        "sc = StandardScaler()\n",
        "X_train_std = sc.fit_transform(X_train)\n",
        "X_test_std = sc.transform(X_test) "
      ]
    },
    {
      "cell_type": "code",
      "execution_count": 39,
      "id": "9c5e7d20",
      "metadata": {
        "colab": {
          "base_uri": "https://localhost:8080/"
        },
        "id": "9c5e7d20",
        "outputId": "340a9191-a6ae-433f-a6f4-d82f4aa87c6f"
      },
      "outputs": [
        {
          "output_type": "stream",
          "name": "stdout",
          "text": [
            "Accuracy: 0.9757283659730722\n",
            "R squared: 0.9757283659730722\n"
          ]
        }
      ],
      "source": [
        "from sklearn.ensemble import RandomForestRegressor\n",
        "\n",
        "rf_tree = RandomForestRegressor(random_state=0)\n",
        "rf_tree.fit(X_train_std,y_train)\n",
        "rf_tree_y_pred = rf_tree.predict(X_train_std)\n",
        "print(\"Accuracy: {}\".format(rf_tree.score(X_train_std,y_train)))\n",
        "print(\"R squared: {}\".format(r2_score(y_true=y_train,y_pred=rf_tree_y_pred)))"
      ]
    },
    {
      "cell_type": "code",
      "execution_count": 40,
      "id": "dee97c62",
      "metadata": {
        "colab": {
          "base_uri": "https://localhost:8080/"
        },
        "id": "dee97c62",
        "outputId": "b2c6e239-066a-4654-aa46-da68bb2fbee6"
      },
      "outputs": [
        {
          "output_type": "stream",
          "name": "stdout",
          "text": [
            "Logistic Regression Accuracy: 0.9577464788732394\n",
            "Random Forest Accuracy: 0.9757283659730722\n"
          ]
        }
      ],
      "source": [
        "print ('Logistic Regression Accuracy: {}'.format(lg.score(X_test, y_test)))\n",
        "print ('Random Forest Accuracy: {}'.format(rf_tree.score(X_train_std,y_train)))"
      ]
    },
    {
      "cell_type": "markdown",
      "id": "eadda539",
      "metadata": {
        "id": "eadda539"
      },
      "source": [
        "#### **Conclusion**\n",
        "Random Forest Regressor has more accuracy than Logistic Regression. So we can use Random Forest Regressor to detect the fraud in credit transaction."
      ]
    }
  ],
  "metadata": {
    "kernelspec": {
      "display_name": "Python 3 (ipykernel)",
      "language": "python",
      "name": "python3"
    },
    "language_info": {
      "codemirror_mode": {
        "name": "ipython",
        "version": 3
      },
      "file_extension": ".py",
      "mimetype": "text/x-python",
      "name": "python",
      "nbconvert_exporter": "python",
      "pygments_lexer": "ipython3",
      "version": "3.9.12"
    },
    "colab": {
      "provenance": [],
      "include_colab_link": true
    }
  },
  "nbformat": 4,
  "nbformat_minor": 5
}